{
 "cells": [
  {
   "cell_type": "markdown",
   "metadata": {},
   "source": [
    "\n",
    "#  Project Phase 2\n",
    "##  Estimating the Risk of Heart Disease\n"
   ]
  },
  {
   "cell_type": "markdown",
   "metadata": {},
   "source": [
    "# 1. Introduction\n",
    "\n",
    "\n",
    "Heart disease is one of the leading cause of death and it generally refers to conditions that involve narrowed or blocked blood vessels that can led to a heart attack, chest pain or stroke. Since this has been a major concering problems in healthcare, having the ability to predict a heart disease can provide important insights to doctors who can adapt their diagnosis and treatment per patient basis. These predictions are now possible with the help of enormous medical data and machine learning algorithms.\n",
    "\n",
    "\n",
    "## 1.1  Abstract\n",
    "The objective of this project is to predict whether a person has a cardiovascular disease.The dataset was obtained from the kaggle website at https://www.kaggle.com/ronitf/heart-disease-uci [1]. This project has been divided into two phases. \n",
    "Phase-1 is focused in data pre-processing and data exploration.\n",
    "Phase-2 is focused on Model-building and Model Evaluation as presented in this project. \n",
    "\n",
    "The phase -  2 of the project involves the following content:\n",
    "- [(Data Preparation)](#3) summarizes the data preparation process and our model evaluation strategy. \n",
    "- [ (Hyperparameter Tuning)](#4) describes the hyperparameter tuning process for each classification algorithm.\n",
    "- [ (Performance Comparison)](#5) presents model performance comparison results.\n",
    "- [(Limitations)](#6) discusses a limitations of our approach and possible solutions. \n",
    "- [(Summary)](#7) provides a brief summary of our work in this project.\n",
    "\n",
    "\n",
    "\n",
    "\n",
    "\n",
    "## 1.2 Methodology\n",
    "\n",
    "We take into consideration binary classifiers to predict the targer feature:\n",
    "* K-Nearest Neighbors (KNN)\n",
    "* Naive Bayes (NB)\n",
    "* Decision trees (DT)\n",
    "\n",
    "A completely cleaned dataset preprocessed in Phase-1 was used for modeling. We start our Data-modeling stage by transforming the full dataset by encoding the categorical descriptive dataset and scaling the descriptive features. Under- sampling is done to level the levels oif the target feature. A split ratio  of 70:30 was taken into consideration which divided the dataset into 194 training set  and 84 testing set.\n",
    "\n",
    "We then move on to feature selection method by random forest classifier to select the best features for our model. Then modelling is performed with best tuned hyper parameters for each classifiers using the area under curve method and the performance metric. We also examine sensitivity of each model with respect to its hyperparameters during the search.\n",
    "\n",
    "\n",
    "The best model is then identified from the three classifiers after model evaluation and then 10 fold cross validation on the test data is performed followed by a paried t-test to see if any performance difference is statistically significant. In addition we compare their recall scores and confusion matrices on the test data.\n",
    "\n",
    "## 1.3 Data Sets\n",
    "The UCI Machine learning repository is the parent source of the kaggle database and it consist of 4 database namely, Cleveland, Hungary Switzerland and the VA Long Beach. As the  Cleveland dataset was set as a benchmark by many researchers, we perform our analysis with the following  dataset.\n",
    "The dataset consist of 14 attributes including the target variable and 303 patient observations. The attributes present categorical, integer and real characteristics. \n",
    "### 1.3.1 Target Feature\n",
    "The response feature named 'Target'is the angiographic disease status and is actually designated as diameter narrowing in any major vessel. However for this project we consider whether a person is diagonised with a heart disease or not as the target feature. \n",
    "The target feature has two classes and hence it is a binary classsification problem. To reiterate, the goal is to predict whether a patient has heart disease."
   ]
  },
  {
   "cell_type": "markdown",
   "metadata": {},
   "source": [
    "### 1.3.2 Descriptive Features\n",
    "\n",
    "The 13 descriptive features provided by the experts in the field include:\n",
    "\n",
    "    Age: Age of the patient \n",
    "    Gender: Sex of the patient (2 levels- Male, Female)\n",
    "    Chest Pain: \n",
    "       Type 1:typical angina\n",
    "       Type 2:atypical angina \n",
    "       Type 3:non-anginal pain \n",
    "       Type 4:asymptomatic\n",
    "    Trestbps: Resting blood pressure-in mm Hg on admission to the hospital\n",
    "    Cholestoral: Serum cholesterol in mg/dl \n",
    "    FBS: Fasting blood sugar > 120 mg/dl (Categorical with 2 levels-True,False)\n",
    "        1: true\n",
    "        0: false\n",
    "    Restecg: Resting electrocardiographic results\n",
    "        0: normal \n",
    "        1: ST-T wave abnormality\n",
    "        2: left ventricular hypertrophy\n",
    "    Maximum Heart Rate: Maximum heart rate achieved \n",
    "    Exang: Exercise induced angina (2 levels-Yes, No)\n",
    "        1: yes\n",
    "        0: no\n",
    "    Oldpeak: ST depression induced by exercise relative to rest \n",
    "    Slope: The slope of the peak exercise ST segment (3 levels-Up, Flat, Down, Up)\n",
    "        1: upsloping\n",
    "        2: flat \n",
    "        3: downsloping\n",
    "    Ca: Number of major vessels (0-3) colored by flourosopy (4 levels - 0, 1, 2, 3)\n",
    "    Thal: The heart status as retrieved from Thallium test (3 levels-N(normal),FD(fixed defect), RD(reversible defect))\n",
    "        3: normal\n",
    "        6: fixed defect\n",
    "        7: reversable defect\n",
    "    Target: diagnosis of heart disease(angiographic disease status):\n",
    "        0: No disease \n",
    "        1-4: Disease"
   ]
  },
  {
   "cell_type": "markdown",
   "metadata": {},
   "source": [
    "# 2. Data Pre-processing <a class=\"anchor\" id=\"3\"></a>"
   ]
  },
  {
   "cell_type": "markdown",
   "metadata": {},
   "source": [
    "## 2.1 Packages \n",
    "We start by loading all revelant packages necessary for our analysis."
   ]
  },
  {
   "cell_type": "code",
   "execution_count": 2,
   "metadata": {},
   "outputs": [
    {
     "name": "stderr",
     "output_type": "stream",
     "text": [
      "/Users/noobtechsquad/anaconda3/lib/python3.7/site-packages/sklearn/externals/six.py:31: DeprecationWarning: The module is deprecated in version 0.21 and will be removed in version 0.23 since we've dropped support for Python 2.7. Please rely on the official version of six (https://pypi.org/project/six/).\n",
      "  \"(https://pypi.org/project/six/).\", DeprecationWarning)\n"
     ]
    }
   ],
   "source": [
    "from IPython.core.interactiveshell import InteractiveShell\n",
    "InteractiveShell.ast_node_interactivity = \"all\"\n",
    "\n",
    "import warnings \n",
    "warnings.filterwarnings(\"ignore\")\n",
    "\n",
    "from IPython.display import display, HTML\n",
    "\n",
    "from sklearn.model_selection import train_test_split\n",
    "from sklearn.tree import DecisionTreeClassifier\n",
    "from sklearn.neighbors import KNeighborsClassifier\n",
    "from sklearn.model_selection import cross_val_score\n",
    "from sklearn.model_selection import GridSearchCV\n",
    "\n",
    "from sklearn import metrics\n",
    "from sklearn import preprocessing\n",
    "from sklearn import tree\n",
    "\n",
    "from sklearn.metrics import confusion_matrix\n",
    "from sklearn.metrics import classification_report\n",
    "from sklearn.tree import export_graphviz\n",
    "from sklearn.externals.six import StringIO  \n",
    "from IPython.display import Image  \n",
    "#import pydotplus\n",
    "\n",
    "%matplotlib inline\n",
    "\n",
    "import pandas as pd\n",
    "import numpy as np\n",
    "import matplotlib.pyplot as plt\n",
    "import pylab as pl\n",
    "import seaborn as sns\n",
    "from pandas.tools.plotting import scatter_matrix"
   ]
  },
  {
   "cell_type": "markdown",
   "metadata": {},
   "source": [
    "## 2.2 Importing Dataset\n",
    "We import the raw dataset into the our Jupyter workspace. As our source file is of the type csv, we use the read csv function in pandas to help us with the importation and store it to a variable name Heart. We provide relevant headers to the dataset as provided by the experts to get better insights on the data.\n",
    "We then use the shape and head function to check whether the loaded dataset is equivalent to the data in the source CSV file. The datatypes of the variables were also observed for further awareness of the dataset.\n"
   ]
  },
  {
   "cell_type": "code",
   "execution_count": 4,
   "metadata": {},
   "outputs": [
    {
     "data": {
      "text/plain": [
       "Age                   int64\n",
       "Gender                int64\n",
       "ChestPain             int64\n",
       "Trestbps              int64\n",
       "Cholestoral           int64\n",
       "FBS                   int64\n",
       "Restecg               int64\n",
       "MaximumHeartRate      int64\n",
       "Exang                 int64\n",
       "OldPeak             float64\n",
       "Slope                 int64\n",
       "Ca                    int64\n",
       "Thal                  int64\n",
       "Target                int64\n",
       "dtype: object"
      ]
     },
     "execution_count": 4,
     "metadata": {},
     "output_type": "execute_result"
    },
    {
     "data": {
      "text/plain": [
       "(302, 14)"
      ]
     },
     "execution_count": 4,
     "metadata": {},
     "output_type": "execute_result"
    },
    {
     "data": {
      "text/html": [
       "<div>\n",
       "<style scoped>\n",
       "    .dataframe tbody tr th:only-of-type {\n",
       "        vertical-align: middle;\n",
       "    }\n",
       "\n",
       "    .dataframe tbody tr th {\n",
       "        vertical-align: top;\n",
       "    }\n",
       "\n",
       "    .dataframe thead th {\n",
       "        text-align: right;\n",
       "    }\n",
       "</style>\n",
       "<table border=\"1\" class=\"dataframe\">\n",
       "  <thead>\n",
       "    <tr style=\"text-align: right;\">\n",
       "      <th></th>\n",
       "      <th>Age</th>\n",
       "      <th>Gender</th>\n",
       "      <th>ChestPain</th>\n",
       "      <th>Trestbps</th>\n",
       "      <th>Cholestoral</th>\n",
       "      <th>FBS</th>\n",
       "      <th>Restecg</th>\n",
       "      <th>MaximumHeartRate</th>\n",
       "      <th>Exang</th>\n",
       "      <th>OldPeak</th>\n",
       "      <th>Slope</th>\n",
       "      <th>Ca</th>\n",
       "      <th>Thal</th>\n",
       "      <th>Target</th>\n",
       "    </tr>\n",
       "  </thead>\n",
       "  <tbody>\n",
       "    <tr>\n",
       "      <th>0</th>\n",
       "      <td>67</td>\n",
       "      <td>1</td>\n",
       "      <td>4</td>\n",
       "      <td>160</td>\n",
       "      <td>286</td>\n",
       "      <td>0</td>\n",
       "      <td>2</td>\n",
       "      <td>108</td>\n",
       "      <td>1</td>\n",
       "      <td>1.5</td>\n",
       "      <td>2</td>\n",
       "      <td>3</td>\n",
       "      <td>3</td>\n",
       "      <td>1</td>\n",
       "    </tr>\n",
       "    <tr>\n",
       "      <th>1</th>\n",
       "      <td>67</td>\n",
       "      <td>1</td>\n",
       "      <td>4</td>\n",
       "      <td>120</td>\n",
       "      <td>229</td>\n",
       "      <td>0</td>\n",
       "      <td>2</td>\n",
       "      <td>129</td>\n",
       "      <td>1</td>\n",
       "      <td>2.6</td>\n",
       "      <td>2</td>\n",
       "      <td>2</td>\n",
       "      <td>7</td>\n",
       "      <td>1</td>\n",
       "    </tr>\n",
       "    <tr>\n",
       "      <th>2</th>\n",
       "      <td>37</td>\n",
       "      <td>1</td>\n",
       "      <td>3</td>\n",
       "      <td>130</td>\n",
       "      <td>250</td>\n",
       "      <td>0</td>\n",
       "      <td>0</td>\n",
       "      <td>187</td>\n",
       "      <td>0</td>\n",
       "      <td>3.5</td>\n",
       "      <td>3</td>\n",
       "      <td>0</td>\n",
       "      <td>3</td>\n",
       "      <td>0</td>\n",
       "    </tr>\n",
       "    <tr>\n",
       "      <th>3</th>\n",
       "      <td>41</td>\n",
       "      <td>0</td>\n",
       "      <td>2</td>\n",
       "      <td>130</td>\n",
       "      <td>204</td>\n",
       "      <td>0</td>\n",
       "      <td>2</td>\n",
       "      <td>172</td>\n",
       "      <td>0</td>\n",
       "      <td>1.4</td>\n",
       "      <td>1</td>\n",
       "      <td>0</td>\n",
       "      <td>3</td>\n",
       "      <td>0</td>\n",
       "    </tr>\n",
       "    <tr>\n",
       "      <th>4</th>\n",
       "      <td>56</td>\n",
       "      <td>1</td>\n",
       "      <td>2</td>\n",
       "      <td>120</td>\n",
       "      <td>236</td>\n",
       "      <td>0</td>\n",
       "      <td>0</td>\n",
       "      <td>178</td>\n",
       "      <td>0</td>\n",
       "      <td>0.8</td>\n",
       "      <td>1</td>\n",
       "      <td>0</td>\n",
       "      <td>3</td>\n",
       "      <td>0</td>\n",
       "    </tr>\n",
       "    <tr>\n",
       "      <th>5</th>\n",
       "      <td>62</td>\n",
       "      <td>0</td>\n",
       "      <td>4</td>\n",
       "      <td>140</td>\n",
       "      <td>268</td>\n",
       "      <td>0</td>\n",
       "      <td>2</td>\n",
       "      <td>160</td>\n",
       "      <td>0</td>\n",
       "      <td>3.6</td>\n",
       "      <td>3</td>\n",
       "      <td>2</td>\n",
       "      <td>3</td>\n",
       "      <td>1</td>\n",
       "    </tr>\n",
       "    <tr>\n",
       "      <th>6</th>\n",
       "      <td>57</td>\n",
       "      <td>0</td>\n",
       "      <td>4</td>\n",
       "      <td>120</td>\n",
       "      <td>354</td>\n",
       "      <td>0</td>\n",
       "      <td>0</td>\n",
       "      <td>163</td>\n",
       "      <td>1</td>\n",
       "      <td>0.6</td>\n",
       "      <td>1</td>\n",
       "      <td>0</td>\n",
       "      <td>3</td>\n",
       "      <td>0</td>\n",
       "    </tr>\n",
       "    <tr>\n",
       "      <th>7</th>\n",
       "      <td>63</td>\n",
       "      <td>1</td>\n",
       "      <td>4</td>\n",
       "      <td>130</td>\n",
       "      <td>254</td>\n",
       "      <td>0</td>\n",
       "      <td>2</td>\n",
       "      <td>147</td>\n",
       "      <td>0</td>\n",
       "      <td>1.4</td>\n",
       "      <td>2</td>\n",
       "      <td>1</td>\n",
       "      <td>7</td>\n",
       "      <td>1</td>\n",
       "    </tr>\n",
       "    <tr>\n",
       "      <th>8</th>\n",
       "      <td>53</td>\n",
       "      <td>1</td>\n",
       "      <td>4</td>\n",
       "      <td>140</td>\n",
       "      <td>203</td>\n",
       "      <td>1</td>\n",
       "      <td>2</td>\n",
       "      <td>155</td>\n",
       "      <td>1</td>\n",
       "      <td>3.1</td>\n",
       "      <td>3</td>\n",
       "      <td>0</td>\n",
       "      <td>7</td>\n",
       "      <td>1</td>\n",
       "    </tr>\n",
       "    <tr>\n",
       "      <th>9</th>\n",
       "      <td>57</td>\n",
       "      <td>1</td>\n",
       "      <td>4</td>\n",
       "      <td>140</td>\n",
       "      <td>192</td>\n",
       "      <td>0</td>\n",
       "      <td>0</td>\n",
       "      <td>148</td>\n",
       "      <td>0</td>\n",
       "      <td>0.4</td>\n",
       "      <td>2</td>\n",
       "      <td>0</td>\n",
       "      <td>6</td>\n",
       "      <td>0</td>\n",
       "    </tr>\n",
       "  </tbody>\n",
       "</table>\n",
       "</div>"
      ],
      "text/plain": [
       "   Age  Gender  ChestPain  Trestbps  Cholestoral  FBS  Restecg  \\\n",
       "0   67       1          4       160          286    0        2   \n",
       "1   67       1          4       120          229    0        2   \n",
       "2   37       1          3       130          250    0        0   \n",
       "3   41       0          2       130          204    0        2   \n",
       "4   56       1          2       120          236    0        0   \n",
       "5   62       0          4       140          268    0        2   \n",
       "6   57       0          4       120          354    0        0   \n",
       "7   63       1          4       130          254    0        2   \n",
       "8   53       1          4       140          203    1        2   \n",
       "9   57       1          4       140          192    0        0   \n",
       "\n",
       "   MaximumHeartRate  Exang  OldPeak  Slope  Ca  Thal  Target  \n",
       "0               108      1      1.5      2   3     3       1  \n",
       "1               129      1      2.6      2   2     7       1  \n",
       "2               187      0      3.5      3   0     3       0  \n",
       "3               172      0      1.4      1   0     3       0  \n",
       "4               178      0      0.8      1   0     3       0  \n",
       "5               160      0      3.6      3   2     3       1  \n",
       "6               163      1      0.6      1   0     3       0  \n",
       "7               147      0      1.4      2   1     7       1  \n",
       "8               155      1      3.1      3   0     7       1  \n",
       "9               148      0      0.4      2   0     6       0  "
      ]
     },
     "execution_count": 4,
     "metadata": {},
     "output_type": "execute_result"
    },
    {
     "data": {
      "text/plain": [
       "array(['Age', 'Gender', 'ChestPain', 'Trestbps', 'Cholestoral', 'FBS',\n",
       "       'Restecg', 'MaximumHeartRate', 'Exang', 'OldPeak', 'Slope', 'Ca',\n",
       "       'Thal', 'Target'], dtype=object)"
      ]
     },
     "execution_count": 4,
     "metadata": {},
     "output_type": "execute_result"
    }
   ],
   "source": [
    "# Load the data from the file\n",
    "Heart = pd.read_csv('processed.cleveland.csv', sep = ',', decimal = '.')\n",
    "\n",
    "# change column name\n",
    "Heart.columns =['Age', 'Gender', 'ChestPain', 'Trestbps', 'Cholestoral',\n",
    "                'FBS', 'Restecg','MaximumHeartRate','Exang', 'OldPeak', \n",
    "                'Slope','Ca', 'Thal', 'Target']\n",
    "Heart['Target'] = Heart['Target'].mask(Heart['Target']>1, 1)\n",
    "\n",
    "Heart.dtypes\n",
    "Heart.shape\n",
    "Heart.head(10)\n",
    "Heart.columns.values"
   ]
  },
  {
   "cell_type": "code",
   "execution_count": 4,
   "metadata": {},
   "outputs": [
    {
     "data": {
      "text/plain": [
       "Age                 0\n",
       "Gender              0\n",
       "ChestPain           0\n",
       "Trestbps            0\n",
       "Cholestoral         0\n",
       "FBS                 0\n",
       "Restecg             0\n",
       "MaximumHeartRate    0\n",
       "Exang               0\n",
       "OldPeak             0\n",
       "Slope               0\n",
       "Ca                  0\n",
       "Thal                0\n",
       "Target              0\n",
       "dtype: int64"
      ]
     },
     "execution_count": 4,
     "metadata": {},
     "output_type": "execute_result"
    }
   ],
   "source": [
    "Heart.isna().sum()"
   ]
  },
  {
   "cell_type": "code",
   "execution_count": 76,
   "metadata": {},
   "outputs": [
    {
     "data": {
      "text/html": [
       "<div>\n",
       "<style scoped>\n",
       "    .dataframe tbody tr th:only-of-type {\n",
       "        vertical-align: middle;\n",
       "    }\n",
       "\n",
       "    .dataframe tbody tr th {\n",
       "        vertical-align: top;\n",
       "    }\n",
       "\n",
       "    .dataframe thead th {\n",
       "        text-align: right;\n",
       "    }\n",
       "</style>\n",
       "<table border=\"1\" class=\"dataframe\">\n",
       "  <thead>\n",
       "    <tr style=\"text-align: right;\">\n",
       "      <th></th>\n",
       "      <th>Age</th>\n",
       "      <th>Gender</th>\n",
       "      <th>ChestPain</th>\n",
       "      <th>Trestbps</th>\n",
       "      <th>Cholestoral</th>\n",
       "      <th>FBS</th>\n",
       "      <th>Restecg</th>\n",
       "      <th>MaximumHeartRate</th>\n",
       "      <th>Exang</th>\n",
       "      <th>OldPeak</th>\n",
       "      <th>Slope</th>\n",
       "      <th>Ca</th>\n",
       "      <th>Thal</th>\n",
       "      <th>Target</th>\n",
       "    </tr>\n",
       "  </thead>\n",
       "  <tbody>\n",
       "    <tr>\n",
       "      <th>count</th>\n",
       "      <td>302.000000</td>\n",
       "      <td>302.000000</td>\n",
       "      <td>302.000000</td>\n",
       "      <td>302.000000</td>\n",
       "      <td>302.000000</td>\n",
       "      <td>302.000000</td>\n",
       "      <td>302.000000</td>\n",
       "      <td>302.000000</td>\n",
       "      <td>302.000000</td>\n",
       "      <td>302.000000</td>\n",
       "      <td>302.000000</td>\n",
       "      <td>302.000000</td>\n",
       "      <td>302.000000</td>\n",
       "      <td>302.000000</td>\n",
       "    </tr>\n",
       "    <tr>\n",
       "      <th>mean</th>\n",
       "      <td>54.410596</td>\n",
       "      <td>0.678808</td>\n",
       "      <td>3.165563</td>\n",
       "      <td>131.645695</td>\n",
       "      <td>246.738411</td>\n",
       "      <td>0.145695</td>\n",
       "      <td>0.986755</td>\n",
       "      <td>149.605960</td>\n",
       "      <td>0.327815</td>\n",
       "      <td>1.035430</td>\n",
       "      <td>1.596026</td>\n",
       "      <td>0.682119</td>\n",
       "      <td>4.728477</td>\n",
       "      <td>0.460265</td>\n",
       "    </tr>\n",
       "    <tr>\n",
       "      <th>std</th>\n",
       "      <td>9.040163</td>\n",
       "      <td>0.467709</td>\n",
       "      <td>0.953612</td>\n",
       "      <td>17.612202</td>\n",
       "      <td>51.856829</td>\n",
       "      <td>0.353386</td>\n",
       "      <td>0.994916</td>\n",
       "      <td>22.912959</td>\n",
       "      <td>0.470196</td>\n",
       "      <td>1.160723</td>\n",
       "      <td>0.611939</td>\n",
       "      <td>0.946200</td>\n",
       "      <td>1.939051</td>\n",
       "      <td>0.499246</td>\n",
       "    </tr>\n",
       "    <tr>\n",
       "      <th>min</th>\n",
       "      <td>29.000000</td>\n",
       "      <td>0.000000</td>\n",
       "      <td>1.000000</td>\n",
       "      <td>94.000000</td>\n",
       "      <td>126.000000</td>\n",
       "      <td>0.000000</td>\n",
       "      <td>0.000000</td>\n",
       "      <td>71.000000</td>\n",
       "      <td>0.000000</td>\n",
       "      <td>0.000000</td>\n",
       "      <td>1.000000</td>\n",
       "      <td>0.000000</td>\n",
       "      <td>3.000000</td>\n",
       "      <td>0.000000</td>\n",
       "    </tr>\n",
       "    <tr>\n",
       "      <th>25%</th>\n",
       "      <td>48.000000</td>\n",
       "      <td>0.000000</td>\n",
       "      <td>3.000000</td>\n",
       "      <td>120.000000</td>\n",
       "      <td>211.000000</td>\n",
       "      <td>0.000000</td>\n",
       "      <td>0.000000</td>\n",
       "      <td>133.250000</td>\n",
       "      <td>0.000000</td>\n",
       "      <td>0.000000</td>\n",
       "      <td>1.000000</td>\n",
       "      <td>0.000000</td>\n",
       "      <td>3.000000</td>\n",
       "      <td>0.000000</td>\n",
       "    </tr>\n",
       "    <tr>\n",
       "      <th>50%</th>\n",
       "      <td>55.500000</td>\n",
       "      <td>1.000000</td>\n",
       "      <td>3.000000</td>\n",
       "      <td>130.000000</td>\n",
       "      <td>241.500000</td>\n",
       "      <td>0.000000</td>\n",
       "      <td>0.500000</td>\n",
       "      <td>153.000000</td>\n",
       "      <td>0.000000</td>\n",
       "      <td>0.800000</td>\n",
       "      <td>2.000000</td>\n",
       "      <td>0.000000</td>\n",
       "      <td>3.000000</td>\n",
       "      <td>0.000000</td>\n",
       "    </tr>\n",
       "    <tr>\n",
       "      <th>75%</th>\n",
       "      <td>61.000000</td>\n",
       "      <td>1.000000</td>\n",
       "      <td>4.000000</td>\n",
       "      <td>140.000000</td>\n",
       "      <td>275.000000</td>\n",
       "      <td>0.000000</td>\n",
       "      <td>2.000000</td>\n",
       "      <td>166.000000</td>\n",
       "      <td>1.000000</td>\n",
       "      <td>1.600000</td>\n",
       "      <td>2.000000</td>\n",
       "      <td>1.000000</td>\n",
       "      <td>7.000000</td>\n",
       "      <td>1.000000</td>\n",
       "    </tr>\n",
       "    <tr>\n",
       "      <th>max</th>\n",
       "      <td>77.000000</td>\n",
       "      <td>1.000000</td>\n",
       "      <td>4.000000</td>\n",
       "      <td>200.000000</td>\n",
       "      <td>564.000000</td>\n",
       "      <td>1.000000</td>\n",
       "      <td>2.000000</td>\n",
       "      <td>202.000000</td>\n",
       "      <td>1.000000</td>\n",
       "      <td>6.200000</td>\n",
       "      <td>3.000000</td>\n",
       "      <td>3.000000</td>\n",
       "      <td>7.000000</td>\n",
       "      <td>1.000000</td>\n",
       "    </tr>\n",
       "  </tbody>\n",
       "</table>\n",
       "</div>"
      ],
      "text/plain": [
       "              Age      Gender   ChestPain    Trestbps  Cholestoral  \\\n",
       "count  302.000000  302.000000  302.000000  302.000000   302.000000   \n",
       "mean    54.410596    0.678808    3.165563  131.645695   246.738411   \n",
       "std      9.040163    0.467709    0.953612   17.612202    51.856829   \n",
       "min     29.000000    0.000000    1.000000   94.000000   126.000000   \n",
       "25%     48.000000    0.000000    3.000000  120.000000   211.000000   \n",
       "50%     55.500000    1.000000    3.000000  130.000000   241.500000   \n",
       "75%     61.000000    1.000000    4.000000  140.000000   275.000000   \n",
       "max     77.000000    1.000000    4.000000  200.000000   564.000000   \n",
       "\n",
       "              FBS     Restecg  MaximumHeartRate       Exang     OldPeak  \\\n",
       "count  302.000000  302.000000        302.000000  302.000000  302.000000   \n",
       "mean     0.145695    0.986755        149.605960    0.327815    1.035430   \n",
       "std      0.353386    0.994916         22.912959    0.470196    1.160723   \n",
       "min      0.000000    0.000000         71.000000    0.000000    0.000000   \n",
       "25%      0.000000    0.000000        133.250000    0.000000    0.000000   \n",
       "50%      0.000000    0.500000        153.000000    0.000000    0.800000   \n",
       "75%      0.000000    2.000000        166.000000    1.000000    1.600000   \n",
       "max      1.000000    2.000000        202.000000    1.000000    6.200000   \n",
       "\n",
       "            Slope          Ca        Thal      Target  \n",
       "count  302.000000  302.000000  302.000000  302.000000  \n",
       "mean     1.596026    0.682119    4.728477    0.460265  \n",
       "std      0.611939    0.946200    1.939051    0.499246  \n",
       "min      1.000000    0.000000    3.000000    0.000000  \n",
       "25%      1.000000    0.000000    3.000000    0.000000  \n",
       "50%      2.000000    0.000000    3.000000    0.000000  \n",
       "75%      2.000000    1.000000    7.000000    1.000000  \n",
       "max      3.000000    3.000000    7.000000    1.000000  "
      ]
     },
     "execution_count": 76,
     "metadata": {},
     "output_type": "execute_result"
    }
   ],
   "source": [
    "Heart.describe()"
   ]
  },
  {
   "cell_type": "code",
   "execution_count": 6,
   "metadata": {
    "scrolled": true
   },
   "outputs": [
    {
     "data": {
      "text/html": [
       "<div>\n",
       "<style scoped>\n",
       "    .dataframe tbody tr th:only-of-type {\n",
       "        vertical-align: middle;\n",
       "    }\n",
       "\n",
       "    .dataframe tbody tr th {\n",
       "        vertical-align: top;\n",
       "    }\n",
       "\n",
       "    .dataframe thead th {\n",
       "        text-align: right;\n",
       "    }\n",
       "</style>\n",
       "<table border=\"1\" class=\"dataframe\">\n",
       "  <thead>\n",
       "    <tr style=\"text-align: right;\">\n",
       "      <th></th>\n",
       "      <th>Age</th>\n",
       "      <th>Gender</th>\n",
       "      <th>ChestPain</th>\n",
       "      <th>Trestbps</th>\n",
       "      <th>Cholestoral</th>\n",
       "      <th>FBS</th>\n",
       "      <th>Restecg</th>\n",
       "      <th>MaximumHeartRate</th>\n",
       "      <th>Exang</th>\n",
       "      <th>OldPeak</th>\n",
       "      <th>Slope</th>\n",
       "      <th>Ca</th>\n",
       "      <th>Thal</th>\n",
       "      <th>Target</th>\n",
       "    </tr>\n",
       "  </thead>\n",
       "  <tbody>\n",
       "    <tr>\n",
       "      <th>134</th>\n",
       "      <td>55</td>\n",
       "      <td>0</td>\n",
       "      <td>2</td>\n",
       "      <td>135</td>\n",
       "      <td>250</td>\n",
       "      <td>0</td>\n",
       "      <td>2</td>\n",
       "      <td>161</td>\n",
       "      <td>0</td>\n",
       "      <td>1.4</td>\n",
       "      <td>2</td>\n",
       "      <td>0</td>\n",
       "      <td>3</td>\n",
       "      <td>0</td>\n",
       "    </tr>\n",
       "    <tr>\n",
       "      <th>27</th>\n",
       "      <td>43</td>\n",
       "      <td>1</td>\n",
       "      <td>4</td>\n",
       "      <td>150</td>\n",
       "      <td>247</td>\n",
       "      <td>0</td>\n",
       "      <td>0</td>\n",
       "      <td>171</td>\n",
       "      <td>0</td>\n",
       "      <td>1.5</td>\n",
       "      <td>1</td>\n",
       "      <td>0</td>\n",
       "      <td>3</td>\n",
       "      <td>0</td>\n",
       "    </tr>\n",
       "    <tr>\n",
       "      <th>188</th>\n",
       "      <td>69</td>\n",
       "      <td>1</td>\n",
       "      <td>3</td>\n",
       "      <td>140</td>\n",
       "      <td>254</td>\n",
       "      <td>0</td>\n",
       "      <td>2</td>\n",
       "      <td>146</td>\n",
       "      <td>0</td>\n",
       "      <td>2.0</td>\n",
       "      <td>2</td>\n",
       "      <td>3</td>\n",
       "      <td>7</td>\n",
       "      <td>1</td>\n",
       "    </tr>\n",
       "    <tr>\n",
       "      <th>107</th>\n",
       "      <td>61</td>\n",
       "      <td>1</td>\n",
       "      <td>4</td>\n",
       "      <td>120</td>\n",
       "      <td>260</td>\n",
       "      <td>0</td>\n",
       "      <td>0</td>\n",
       "      <td>140</td>\n",
       "      <td>1</td>\n",
       "      <td>3.6</td>\n",
       "      <td>2</td>\n",
       "      <td>1</td>\n",
       "      <td>7</td>\n",
       "      <td>1</td>\n",
       "    </tr>\n",
       "    <tr>\n",
       "      <th>96</th>\n",
       "      <td>60</td>\n",
       "      <td>0</td>\n",
       "      <td>4</td>\n",
       "      <td>150</td>\n",
       "      <td>258</td>\n",
       "      <td>0</td>\n",
       "      <td>2</td>\n",
       "      <td>157</td>\n",
       "      <td>0</td>\n",
       "      <td>2.6</td>\n",
       "      <td>2</td>\n",
       "      <td>2</td>\n",
       "      <td>7</td>\n",
       "      <td>1</td>\n",
       "    </tr>\n",
       "  </tbody>\n",
       "</table>\n",
       "</div>"
      ],
      "text/plain": [
       "     Age  Gender  ChestPain  Trestbps  Cholestoral  FBS  Restecg  \\\n",
       "134   55       0          2       135          250    0        2   \n",
       "27    43       1          4       150          247    0        0   \n",
       "188   69       1          3       140          254    0        2   \n",
       "107   61       1          4       120          260    0        0   \n",
       "96    60       0          4       150          258    0        2   \n",
       "\n",
       "     MaximumHeartRate  Exang  OldPeak  Slope  Ca  Thal  Target  \n",
       "134               161      0      1.4      2   0     3       0  \n",
       "27                171      0      1.5      1   0     3       0  \n",
       "188               146      0      2.0      2   3     7       1  \n",
       "107               140      1      3.6      2   1     7       1  \n",
       "96                157      0      2.6      2   2     7       1  "
      ]
     },
     "execution_count": 6,
     "metadata": {},
     "output_type": "execute_result"
    }
   ],
   "source": [
    "Heart.sample(n=5, random_state=999)"
   ]
  },
  {
   "cell_type": "code",
   "execution_count": 77,
   "metadata": {},
   "outputs": [
    {
     "data": {
      "text/plain": [
       "<matplotlib.axes._subplots.AxesSubplot at 0x10676d978>"
      ]
     },
     "execution_count": 77,
     "metadata": {},
     "output_type": "execute_result"
    },
    {
     "data": {
      "text/plain": [
       "0    163\n",
       "1    139\n",
       "Name: Target, dtype: int64"
      ]
     },
     "execution_count": 77,
     "metadata": {},
     "output_type": "execute_result"
    },
    {
     "data": {
      "image/png": "[encoded data removed]",
      "text/plain": [
       "<Figure size 432x288 with 1 Axes>"
      ]
     },
     "metadata": {
      "needs_background": "light"
     },
     "output_type": "display_data"
    }
   ],
   "source": [
    "sns.countplot(Heart['Target'])\n",
    "Heart['Target'].value_counts()"
   ]
  },
  {
   "cell_type": "markdown",
   "metadata": {},
   "source": [
    "From the above plot, we observe an imbalance dataset, hence, undersampling is done to balance the ratio.\n",
    "UnderSampling is the process where you randomly delete some of the observation from the majority class in order to match the numbers with the minority class. "
   ]
  },
  {
   "cell_type": "code",
   "execution_count": 78,
   "metadata": {},
   "outputs": [
    {
     "data": {
      "text/plain": [
       "<matplotlib.axes._subplots.AxesSubplot at 0x1a1c377be0>"
      ]
     },
     "execution_count": 78,
     "metadata": {},
     "output_type": "execute_result"
    },
    {
     "data": {
      "text/plain": [
       "1    139\n",
       "0    139\n",
       "Name: Target, dtype: int64"
      ]
     },
     "execution_count": 78,
     "metadata": {},
     "output_type": "execute_result"
    },
    {
     "data": {
      "image/png": "[encoded data removed]",
      "text/plain": [
       "<Figure size 432x288 with 1 Axes>"
      ]
     },
     "metadata": {
      "needs_background": "light"
     },
     "output_type": "display_data"
    }
   ],
   "source": [
    "# Undersampling\n",
    "count_class_0, count_class_1 = Heart['Target'].value_counts()\n",
    "\n",
    "Heart_0 = Heart[Heart['Target'] ==0]\n",
    "Heart_1 = Heart[Heart['Target'] ==1]\n",
    "\n",
    "Heart_NoDisease = Heart_0.sample(count_class_1)\n",
    "Heart_Disease = Heart_1.sample(count_class_1)\n",
    "\n",
    "HeartBalance = pd.concat([Heart_NoDisease, Heart_Disease ], axis = 0)\n",
    "HeartBalance['Target'].value_counts().plot(kind ='bar')\n",
    "\n",
    "HeartBalance['Target'].value_counts()"
   ]
  },
  {
   "cell_type": "code",
   "execution_count": 79,
   "metadata": {},
   "outputs": [
    {
     "data": {
      "text/plain": [
       "<Figure size 936x504 with 0 Axes>"
      ]
     },
     "execution_count": 79,
     "metadata": {},
     "output_type": "execute_result"
    },
    {
     "data": {
      "text/plain": [
       "<matplotlib.axes._subplots.AxesSubplot at 0x106753710>"
      ]
     },
     "execution_count": 79,
     "metadata": {},
     "output_type": "execute_result"
    },
    {
     "data": {
      "image/png": "[encoded data removed]",
      "text/plain": [
       "<Figure size 936x504 with 2 Axes>"
      ]
     },
     "metadata": {
      "needs_background": "light"
     },
     "output_type": "display_data"
    }
   ],
   "source": [
    "plt.figure(figsize=(13,7))\n",
    "sns.heatmap(HeartBalance.corr(), annot=True, fmt=\".2f\")\n",
    "# sns.heatmap(HeartBalance.corr())"
   ]
  },
  {
   "cell_type": "markdown",
   "metadata": {},
   "source": [
    "# Encoding The Target Feature"
   ]
  },
  {
   "cell_type": "code",
   "execution_count": 80,
   "metadata": {},
   "outputs": [
    {
     "data": {
      "text/plain": [
       "<matplotlib.axes._subplots.AxesSubplot at 0x1a1cbb0208>"
      ]
     },
     "execution_count": 80,
     "metadata": {},
     "output_type": "execute_result"
    },
    {
     "data": {
      "text/plain": [
       "(278, 13)"
      ]
     },
     "execution_count": 80,
     "metadata": {},
     "output_type": "execute_result"
    },
    {
     "data": {
      "text/html": [
       "<div>\n",
       "<style scoped>\n",
       "    .dataframe tbody tr th:only-of-type {\n",
       "        vertical-align: middle;\n",
       "    }\n",
       "\n",
       "    .dataframe tbody tr th {\n",
       "        vertical-align: top;\n",
       "    }\n",
       "\n",
       "    .dataframe thead th {\n",
       "        text-align: right;\n",
       "    }\n",
       "</style>\n",
       "<table border=\"1\" class=\"dataframe\">\n",
       "  <thead>\n",
       "    <tr style=\"text-align: right;\">\n",
       "      <th></th>\n",
       "      <th>Age</th>\n",
       "      <th>Gender</th>\n",
       "      <th>ChestPain</th>\n",
       "      <th>Trestbps</th>\n",
       "      <th>Cholestoral</th>\n",
       "      <th>FBS</th>\n",
       "      <th>Restecg</th>\n",
       "      <th>MaximumHeartRate</th>\n",
       "      <th>Exang</th>\n",
       "      <th>OldPeak</th>\n",
       "      <th>Slope</th>\n",
       "      <th>Ca</th>\n",
       "      <th>Thal</th>\n",
       "    </tr>\n",
       "  </thead>\n",
       "  <tbody>\n",
       "    <tr>\n",
       "      <th>218</th>\n",
       "      <td>59</td>\n",
       "      <td>1</td>\n",
       "      <td>4</td>\n",
       "      <td>138</td>\n",
       "      <td>271</td>\n",
       "      <td>0</td>\n",
       "      <td>2</td>\n",
       "      <td>182</td>\n",
       "      <td>0</td>\n",
       "      <td>0.0</td>\n",
       "      <td>1</td>\n",
       "      <td>0</td>\n",
       "      <td>3</td>\n",
       "    </tr>\n",
       "    <tr>\n",
       "      <th>254</th>\n",
       "      <td>42</td>\n",
       "      <td>0</td>\n",
       "      <td>3</td>\n",
       "      <td>120</td>\n",
       "      <td>209</td>\n",
       "      <td>0</td>\n",
       "      <td>0</td>\n",
       "      <td>173</td>\n",
       "      <td>0</td>\n",
       "      <td>0.0</td>\n",
       "      <td>2</td>\n",
       "      <td>0</td>\n",
       "      <td>3</td>\n",
       "    </tr>\n",
       "    <tr>\n",
       "      <th>189</th>\n",
       "      <td>50</td>\n",
       "      <td>1</td>\n",
       "      <td>3</td>\n",
       "      <td>129</td>\n",
       "      <td>196</td>\n",
       "      <td>0</td>\n",
       "      <td>0</td>\n",
       "      <td>163</td>\n",
       "      <td>0</td>\n",
       "      <td>0.0</td>\n",
       "      <td>1</td>\n",
       "      <td>0</td>\n",
       "      <td>3</td>\n",
       "    </tr>\n",
       "    <tr>\n",
       "      <th>76</th>\n",
       "      <td>51</td>\n",
       "      <td>0</td>\n",
       "      <td>3</td>\n",
       "      <td>140</td>\n",
       "      <td>308</td>\n",
       "      <td>0</td>\n",
       "      <td>2</td>\n",
       "      <td>142</td>\n",
       "      <td>0</td>\n",
       "      <td>1.5</td>\n",
       "      <td>1</td>\n",
       "      <td>1</td>\n",
       "      <td>3</td>\n",
       "    </tr>\n",
       "    <tr>\n",
       "      <th>165</th>\n",
       "      <td>52</td>\n",
       "      <td>1</td>\n",
       "      <td>3</td>\n",
       "      <td>138</td>\n",
       "      <td>223</td>\n",
       "      <td>0</td>\n",
       "      <td>0</td>\n",
       "      <td>169</td>\n",
       "      <td>0</td>\n",
       "      <td>0.0</td>\n",
       "      <td>1</td>\n",
       "      <td>2</td>\n",
       "      <td>3</td>\n",
       "    </tr>\n",
       "  </tbody>\n",
       "</table>\n",
       "</div>"
      ],
      "text/plain": [
       "     Age  Gender  ChestPain  Trestbps  Cholestoral  FBS  Restecg  \\\n",
       "218   59       1          4       138          271    0        2   \n",
       "254   42       0          3       120          209    0        0   \n",
       "189   50       1          3       129          196    0        0   \n",
       "76    51       0          3       140          308    0        2   \n",
       "165   52       1          3       138          223    0        0   \n",
       "\n",
       "     MaximumHeartRate  Exang  OldPeak  Slope  Ca  Thal  \n",
       "218               182      0      0.0      1   0     3  \n",
       "254               173      0      0.0      2   0     3  \n",
       "189               163      0      0.0      1   0     3  \n",
       "76                142      0      1.5      1   1     3  \n",
       "165               169      0      0.0      1   2     3  "
      ]
     },
     "execution_count": 80,
     "metadata": {},
     "output_type": "execute_result"
    },
    {
     "data": {
      "image/png": "[encoded data removed]",
      "text/plain": [
       "<Figure size 432x288 with 1 Axes>"
      ]
     },
     "metadata": {
      "needs_background": "light"
     },
     "output_type": "display_data"
    }
   ],
   "source": [
    "Target = HeartBalance['Target']\n",
    "Data = HeartBalance.drop(columns = \"Target\")\n",
    "sns.countplot(Target)\n",
    "Data.shape\n",
    "Data.head(5)"
   ]
  },
  {
   "cell_type": "markdown",
   "metadata": {},
   "source": [
    "# Scaling of Features\n",
    "\n",
    "After undersampling and encoding of target feature we move on to the feature scaling where we perform a min-max scaling method to  balance the scale of our features from 0 to 1. We start this by first keeping a copy of the data to keep track of the columns."
   ]
  },
  {
   "cell_type": "code",
   "execution_count": 81,
   "metadata": {},
   "outputs": [
    {
     "data": {
      "text/plain": [
       "MinMaxScaler(copy=True, feature_range=(0, 1))"
      ]
     },
     "execution_count": 81,
     "metadata": {},
     "output_type": "execute_result"
    }
   ],
   "source": [
    "from sklearn import preprocessing\n",
    "Heart_df = Data.copy()\n",
    "\n",
    "Heart_scaler = preprocessing.MinMaxScaler()\n",
    "Heart_scaler.fit(Data)\n",
    "Data = Heart_scaler.fit_transform(Data)"
   ]
  },
  {
   "cell_type": "markdown",
   "metadata": {},
   "source": [
    "Let's have another look at the descriptive features after scaling. Pay attention that the output of the scaler is a `NumPy` array, so all the column names are lost. That's why we kept a copy of Data before scaling so that we can recover the column names below. We observe below that binary features are still kept as binary after the min-max scaling."
   ]
  },
  {
   "cell_type": "code",
   "execution_count": 82,
   "metadata": {},
   "outputs": [
    {
     "data": {
      "text/html": [
       "<div>\n",
       "<style scoped>\n",
       "    .dataframe tbody tr th:only-of-type {\n",
       "        vertical-align: middle;\n",
       "    }\n",
       "\n",
       "    .dataframe tbody tr th {\n",
       "        vertical-align: top;\n",
       "    }\n",
       "\n",
       "    .dataframe thead th {\n",
       "        text-align: right;\n",
       "    }\n",
       "</style>\n",
       "<table border=\"1\" class=\"dataframe\">\n",
       "  <thead>\n",
       "    <tr style=\"text-align: right;\">\n",
       "      <th></th>\n",
       "      <th>Age</th>\n",
       "      <th>Gender</th>\n",
       "      <th>ChestPain</th>\n",
       "      <th>Trestbps</th>\n",
       "      <th>Cholestoral</th>\n",
       "      <th>FBS</th>\n",
       "      <th>Restecg</th>\n",
       "      <th>MaximumHeartRate</th>\n",
       "      <th>Exang</th>\n",
       "      <th>OldPeak</th>\n",
       "      <th>Slope</th>\n",
       "      <th>Ca</th>\n",
       "      <th>Thal</th>\n",
       "    </tr>\n",
       "  </thead>\n",
       "  <tbody>\n",
       "    <tr>\n",
       "      <th>186</th>\n",
       "      <td>0.583333</td>\n",
       "      <td>1.0</td>\n",
       "      <td>1.000000</td>\n",
       "      <td>0.339623</td>\n",
       "      <td>0.000000</td>\n",
       "      <td>0.0</td>\n",
       "      <td>0.0</td>\n",
       "      <td>0.335878</td>\n",
       "      <td>1.0</td>\n",
       "      <td>0.193548</td>\n",
       "      <td>0.5</td>\n",
       "      <td>0.333333</td>\n",
       "      <td>1.00</td>\n",
       "    </tr>\n",
       "    <tr>\n",
       "      <th>26</th>\n",
       "      <td>0.375000</td>\n",
       "      <td>1.0</td>\n",
       "      <td>1.000000</td>\n",
       "      <td>0.169811</td>\n",
       "      <td>0.168591</td>\n",
       "      <td>0.0</td>\n",
       "      <td>0.0</td>\n",
       "      <td>0.549618</td>\n",
       "      <td>0.0</td>\n",
       "      <td>0.016129</td>\n",
       "      <td>0.0</td>\n",
       "      <td>0.000000</td>\n",
       "      <td>0.00</td>\n",
       "    </tr>\n",
       "    <tr>\n",
       "      <th>153</th>\n",
       "      <td>0.687500</td>\n",
       "      <td>1.0</td>\n",
       "      <td>0.333333</td>\n",
       "      <td>0.245283</td>\n",
       "      <td>0.346420</td>\n",
       "      <td>0.0</td>\n",
       "      <td>1.0</td>\n",
       "      <td>0.244275</td>\n",
       "      <td>0.0</td>\n",
       "      <td>0.225806</td>\n",
       "      <td>0.5</td>\n",
       "      <td>0.333333</td>\n",
       "      <td>1.00</td>\n",
       "    </tr>\n",
       "    <tr>\n",
       "      <th>259</th>\n",
       "      <td>0.666667</td>\n",
       "      <td>0.0</td>\n",
       "      <td>1.000000</td>\n",
       "      <td>0.339623</td>\n",
       "      <td>0.459584</td>\n",
       "      <td>0.0</td>\n",
       "      <td>1.0</td>\n",
       "      <td>0.748092</td>\n",
       "      <td>0.0</td>\n",
       "      <td>0.000000</td>\n",
       "      <td>0.0</td>\n",
       "      <td>0.000000</td>\n",
       "      <td>0.00</td>\n",
       "    </tr>\n",
       "    <tr>\n",
       "      <th>8</th>\n",
       "      <td>0.666667</td>\n",
       "      <td>1.0</td>\n",
       "      <td>0.666667</td>\n",
       "      <td>0.528302</td>\n",
       "      <td>0.258661</td>\n",
       "      <td>1.0</td>\n",
       "      <td>0.0</td>\n",
       "      <td>0.503817</td>\n",
       "      <td>1.0</td>\n",
       "      <td>0.161290</td>\n",
       "      <td>0.5</td>\n",
       "      <td>0.000000</td>\n",
       "      <td>0.00</td>\n",
       "    </tr>\n",
       "    <tr>\n",
       "      <th>181</th>\n",
       "      <td>0.583333</td>\n",
       "      <td>1.0</td>\n",
       "      <td>1.000000</td>\n",
       "      <td>0.528302</td>\n",
       "      <td>0.334873</td>\n",
       "      <td>0.0</td>\n",
       "      <td>1.0</td>\n",
       "      <td>0.312977</td>\n",
       "      <td>1.0</td>\n",
       "      <td>0.096774</td>\n",
       "      <td>0.5</td>\n",
       "      <td>0.333333</td>\n",
       "      <td>0.75</td>\n",
       "    </tr>\n",
       "    <tr>\n",
       "      <th>230</th>\n",
       "      <td>0.645833</td>\n",
       "      <td>1.0</td>\n",
       "      <td>1.000000</td>\n",
       "      <td>0.292453</td>\n",
       "      <td>0.293303</td>\n",
       "      <td>0.0</td>\n",
       "      <td>1.0</td>\n",
       "      <td>0.534351</td>\n",
       "      <td>1.0</td>\n",
       "      <td>0.451613</td>\n",
       "      <td>0.5</td>\n",
       "      <td>0.333333</td>\n",
       "      <td>1.00</td>\n",
       "    </tr>\n",
       "    <tr>\n",
       "      <th>227</th>\n",
       "      <td>0.833333</td>\n",
       "      <td>1.0</td>\n",
       "      <td>0.666667</td>\n",
       "      <td>0.433962</td>\n",
       "      <td>0.284065</td>\n",
       "      <td>0.0</td>\n",
       "      <td>1.0</td>\n",
       "      <td>0.572519</td>\n",
       "      <td>0.0</td>\n",
       "      <td>0.322581</td>\n",
       "      <td>0.5</td>\n",
       "      <td>1.000000</td>\n",
       "      <td>1.00</td>\n",
       "    </tr>\n",
       "    <tr>\n",
       "      <th>0</th>\n",
       "      <td>0.625000</td>\n",
       "      <td>1.0</td>\n",
       "      <td>1.000000</td>\n",
       "      <td>0.415094</td>\n",
       "      <td>0.323326</td>\n",
       "      <td>0.0</td>\n",
       "      <td>1.0</td>\n",
       "      <td>0.847328</td>\n",
       "      <td>0.0</td>\n",
       "      <td>0.000000</td>\n",
       "      <td>0.0</td>\n",
       "      <td>0.000000</td>\n",
       "      <td>0.00</td>\n",
       "    </tr>\n",
       "    <tr>\n",
       "      <th>232</th>\n",
       "      <td>0.708333</td>\n",
       "      <td>1.0</td>\n",
       "      <td>1.000000</td>\n",
       "      <td>0.339623</td>\n",
       "      <td>0.284065</td>\n",
       "      <td>0.0</td>\n",
       "      <td>1.0</td>\n",
       "      <td>0.580153</td>\n",
       "      <td>0.0</td>\n",
       "      <td>0.225806</td>\n",
       "      <td>0.5</td>\n",
       "      <td>0.333333</td>\n",
       "      <td>1.00</td>\n",
       "    </tr>\n",
       "  </tbody>\n",
       "</table>\n",
       "</div>"
      ],
      "text/plain": [
       "          Age  Gender  ChestPain  Trestbps  Cholestoral  FBS  Restecg  \\\n",
       "186  0.583333     1.0   1.000000  0.339623     0.000000  0.0      0.0   \n",
       "26   0.375000     1.0   1.000000  0.169811     0.168591  0.0      0.0   \n",
       "153  0.687500     1.0   0.333333  0.245283     0.346420  0.0      1.0   \n",
       "259  0.666667     0.0   1.000000  0.339623     0.459584  0.0      1.0   \n",
       "8    0.666667     1.0   0.666667  0.528302     0.258661  1.0      0.0   \n",
       "181  0.583333     1.0   1.000000  0.528302     0.334873  0.0      1.0   \n",
       "230  0.645833     1.0   1.000000  0.292453     0.293303  0.0      1.0   \n",
       "227  0.833333     1.0   0.666667  0.433962     0.284065  0.0      1.0   \n",
       "0    0.625000     1.0   1.000000  0.415094     0.323326  0.0      1.0   \n",
       "232  0.708333     1.0   1.000000  0.339623     0.284065  0.0      1.0   \n",
       "\n",
       "     MaximumHeartRate  Exang   OldPeak  Slope        Ca  Thal  \n",
       "186          0.335878    1.0  0.193548    0.5  0.333333  1.00  \n",
       "26           0.549618    0.0  0.016129    0.0  0.000000  0.00  \n",
       "153          0.244275    0.0  0.225806    0.5  0.333333  1.00  \n",
       "259          0.748092    0.0  0.000000    0.0  0.000000  0.00  \n",
       "8            0.503817    1.0  0.161290    0.5  0.000000  0.00  \n",
       "181          0.312977    1.0  0.096774    0.5  0.333333  0.75  \n",
       "230          0.534351    1.0  0.451613    0.5  0.333333  1.00  \n",
       "227          0.572519    0.0  0.322581    0.5  1.000000  1.00  \n",
       "0            0.847328    0.0  0.000000    0.0  0.000000  0.00  \n",
       "232          0.580153    0.0  0.225806    0.5  0.333333  1.00  "
      ]
     },
     "execution_count": 82,
     "metadata": {},
     "output_type": "execute_result"
    }
   ],
   "source": [
    "pd.DataFrame(Data, columns = Heart_df.columns).sample(10, random_state = 999)"
   ]
  },
  {
   "cell_type": "markdown",
   "metadata": {},
   "source": [
    "# Feature Selection & Ranking"
   ]
  },
  {
   "cell_type": "markdown",
   "metadata": {},
   "source": [
    "In the above correlation matrix we already saw which features gave strong postitive and strong negative correaltion. However to give us a more discrete and important fetures necessary for modeling we use the random forest classifier to give us the 10 most significant features. Later, in the process of hyperparameter tuning we include the random forest importance in the pipeline to determine which features works best with each classifier."
   ]
  },
  {
   "cell_type": "code",
   "execution_count": 83,
   "metadata": {},
   "outputs": [
    {
     "data": {
      "text/plain": [
       "RandomForestClassifier(bootstrap=True, class_weight=None, criterion='gini',\n",
       "                       max_depth=None, max_features='auto', max_leaf_nodes=None,\n",
       "                       min_impurity_decrease=0.0, min_impurity_split=None,\n",
       "                       min_samples_leaf=1, min_samples_split=2,\n",
       "                       min_weight_fraction_leaf=0.0, n_estimators=100,\n",
       "                       n_jobs=None, oob_score=False, random_state=None,\n",
       "                       verbose=0, warm_start=False)"
      ]
     },
     "execution_count": 83,
     "metadata": {},
     "output_type": "execute_result"
    },
    {
     "data": {
      "text/plain": [
       "array(['ChestPain', 'MaximumHeartRate', 'Ca', 'Thal', 'OldPeak', 'Age',\n",
       "       'Cholestoral', 'Trestbps', 'Exang', 'Slope'], dtype=object)"
      ]
     },
     "execution_count": 83,
     "metadata": {},
     "output_type": "execute_result"
    }
   ],
   "source": [
    "from sklearn.ensemble import RandomForestClassifier\n",
    "\n",
    "num_features = 10\n",
    "model_RFI = RandomForestClassifier(n_estimators = 100)\n",
    "model_RFI.fit(Data, Target)\n",
    "fs_indices_rfi = np.argsort(model_RFI.feature_importances_)[::-1][0:num_features]\n",
    "\n",
    "best_features_rfi = Heart_df.columns[fs_indices_rfi].values\n",
    "best_features_rfi"
   ]
  },
  {
   "cell_type": "code",
   "execution_count": 14,
   "metadata": {},
   "outputs": [
    {
     "data": {
      "text/plain": [
       "array([0.1613499 , 0.13249946, 0.10752894, 0.09910132, 0.09650837,\n",
       "       0.09056245, 0.07588016, 0.07522741, 0.04985324, 0.04972272])"
      ]
     },
     "execution_count": 14,
     "metadata": {},
     "output_type": "execute_result"
    }
   ],
   "source": [
    "feature_importances_rfi = model_RFI.feature_importances_[fs_indices_rfi]\n",
    "feature_importances_rfi"
   ]
  },
  {
   "cell_type": "markdown",
   "metadata": {},
   "source": [
    " Visulization of these importance: "
   ]
  },
  {
   "cell_type": "code",
   "execution_count": 84,
   "metadata": {},
   "outputs": [
    {
     "data": {
      "text/plain": [
       "RendererRegistry.enable('notebook')"
      ]
     },
     "execution_count": 84,
     "metadata": {},
     "output_type": "execute_result"
    }
   ],
   "source": [
    "import altair as alt\n",
    "alt.renderers.enable('notebook')\n",
    "def plot_imp(best_features, scores, method_name, color):\n",
    "    \n",
    "    df = pd.DataFrame({'features' : best_features,\n",
    "                      'importances' : scores})\n",
    "    \n",
    "    chart = alt.Chart(df, \n",
    "                     width = 500,\n",
    "                     title = method_name + 'Feature Importances'\n",
    "                     ).mark_bar(opacity = 0.85,\n",
    "                               color = color).encode(\n",
    "    alt.X('features', title = 'Feature', sort=None, axis = alt.AxisConfig(labelAngle=45)),\n",
    "    alt.Y('importances', title = 'Importance'))\n",
    "    \n",
    "    return chart"
   ]
  },
  {
   "cell_type": "code",
   "execution_count": 85,
   "metadata": {},
   "outputs": [
    {
     "data": {
      "application/javascript": [
       "var spec = {\"config\": {\"view\": {\"width\": 400, \"height\": 300}, \"mark\": {\"tooltip\": null}}, \"data\": {\"name\": \"data-dacafa91efeb20836702d4e8b600b9dd\"}, \"mark\": {\"type\": \"bar\", \"color\": \"blue\", \"opacity\": 0.85}, \"encoding\": {\"x\": {\"type\": \"nominal\", \"axis\": {\"labelAngle\": 45}, \"field\": \"features\", \"sort\": null, \"title\": \"Feature\"}, \"y\": {\"type\": \"quantitative\", \"field\": \"importances\", \"title\": \"Importance\"}}, \"title\": \"Random ForestFeature Importances\", \"width\": 500, \"$schema\": \"https://vega.github.io/schema/vega-lite/v3.3.0.json\", \"datasets\": {\"data-dacafa91efeb20836702d4e8b600b9dd\": [{\"features\": \"ChestPain\", \"importances\": 0.16134990047330108}, {\"features\": \"MaximumHeartRate\", \"importances\": 0.13249946321310394}, {\"features\": \"Ca\", \"importances\": 0.10752893898082534}, {\"features\": \"Thal\", \"importances\": 0.09910131970091514}, {\"features\": \"OldPeak\", \"importances\": 0.09650836542594018}, {\"features\": \"Age\", \"importances\": 0.09056244980942682}, {\"features\": \"Cholestoral\", \"importances\": 0.07588015983761243}, {\"features\": \"Trestbps\", \"importances\": 0.07522741065574252}, {\"features\": \"Exang\", \"importances\": 0.04985323806706786}, {\"features\": \"Slope\", \"importances\": 0.04972271709213493}]}};\n",
       "var opt = {};\n",
       "var type = \"vega-lite\";\n",
       "var id = \"73c3271f-e9ab-40f2-ab54-627d7c41ca97\";\n",
       "\n",
       "var output_area = this;\n",
       "\n",
       "require([\"nbextensions/jupyter-vega/index\"], function(vega) {\n",
       "  var target = document.createElement(\"div\");\n",
       "  target.id = id;\n",
       "  target.className = \"vega-embed\";\n",
       "\n",
       "  var style = document.createElement(\"style\");\n",
       "  style.textContent = [\n",
       "    \".vega-embed .error p {\",\n",
       "    \"  color: firebrick;\",\n",
       "    \"  font-size: 14px;\",\n",
       "    \"}\",\n",
       "  ].join(\"\\\\n\");\n",
       "\n",
       "  // element is a jQuery wrapped DOM element inside the output area\n",
       "  // see http://ipython.readthedocs.io/en/stable/api/generated/\\\n",
       "  // IPython.display.html#IPython.display.Javascript.__init__\n",
       "  element[0].appendChild(target);\n",
       "  element[0].appendChild(style);\n",
       "\n",
       "  vega.render(\"#\" + id, spec, type, opt, output_area);\n",
       "}, function (err) {\n",
       "  if (err.requireType !== \"scripterror\") {\n",
       "    throw(err);\n",
       "  }\n",
       "});\n"
      ],
      "text/plain": [
       "<vega.vegalite.VegaLite at 0x1a1b516b70>"
      ]
     },
     "metadata": {
      "jupyter-vega": "#73c3271f-e9ab-40f2-ab54-627d7c41ca97"
     },
     "output_type": "display_data"
    },
    {
     "data": {
      "text/plain": []
     },
     "execution_count": 85,
     "metadata": {},
     "output_type": "execute_result"
    },
    {
     "data": {
      "image/png": "[encoded data removed]"
     },
     "metadata": {
      "jupyter-vega": "#73c3271f-e9ab-40f2-ab54-627d7c41ca97"
     },
     "output_type": "display_data"
    }
   ],
   "source": [
    "plot_imp(best_features_rfi, feature_importances_rfi, 'Random Forest', 'blue')"
   ]
  },
  {
   "cell_type": "markdown",
   "metadata": {},
   "source": [
    "Chest Pain which was strongly correlated as seen previously in the scatter matrix has been graded as the most significant feature of importance by the random forest importance. It is then followed by  Maximum Heart Rate and ca.\n",
    "\n",
    "\n",
    "\n",
    "# Data sampling & Train-Test splitting\n",
    "\n",
    "The original dataset consist of 302 observations, however after applying undersampling method to level both levels of target feature the number of observations taken into consideration for modeling is 278 observations. The train-test split taken into the process was in the ratio 70:30 where 194 observations were used for training and the rest 84 observations were used to test the model.\n",
    "\n"
   ]
  },
  {
   "cell_type": "code",
   "execution_count": 86,
   "metadata": {},
   "outputs": [
    {
     "data": {
      "text/plain": [
       "(194, 13)"
      ]
     },
     "execution_count": 86,
     "metadata": {},
     "output_type": "execute_result"
    },
    {
     "data": {
      "text/plain": [
       "(84, 13)"
      ]
     },
     "execution_count": 86,
     "metadata": {},
     "output_type": "execute_result"
    }
   ],
   "source": [
    "Data_sample = pd.DataFrame(Data, columns = Heart_df.columns).values\n",
    "Target_sample = pd.DataFrame(Target).values\n",
    "\n",
    "X_train, X_test, y_train, y_test = train_test_split(Data_sample, Target_sample, test_size = 0.3, random_state = 999,\n",
    "                                                   stratify = Target_sample)\n",
    "#X_train.head()\n",
    "X_train.shape\n",
    "#X_test.head()\n",
    "X_test.shape"
   ]
  },
  {
   "cell_type": "markdown",
   "metadata": {},
   "source": [
    "# Model Evaluation Strategy\n",
    "For each model, we will use 5-fold stratified cross-validation evaluation method (without any repetitions for shorter run times) for hyperparameter tuning."
   ]
  },
  {
   "cell_type": "code",
   "execution_count": 87,
   "metadata": {},
   "outputs": [],
   "source": [
    "from sklearn.model_selection import StratifiedKFold, GridSearchCV\n",
    "cv_method = StratifiedKFold(n_splits = 5, random_state = 999)"
   ]
  },
  {
   "cell_type": "markdown",
   "metadata": {},
   "source": [
    "# Hyperparameter Tuning  <a class=\"anchor\" id=\"4\"></a> \n",
    "\n",
    "## K-Nearest Neighbor(KNN)\n",
    "\n",
    "A hyperparameter is a parameter whose value is set before the learning process begins. Hyperparameter tuning is choosing a set of optimal hyperparameter for a learning algorithm. In the case of K, we use the cross-validation technique to get the best value of `K` and distance metric `p` for the model. In the cross validation model the loop repeats over different K and gives us the accuracy of the best K. \n",
    "\n",
    "We also use the Random Forest Importance(RFI) method by defining a custom `RFQFeatureSelector()` class as seen below in RFI as a step to the pipeline.\n",
    "\n"
   ]
  },
  {
   "cell_type": "code",
   "execution_count": 88,
   "metadata": {},
   "outputs": [],
   "source": [
    "from sklearn.base import BaseEstimator, TransformerMixin\n",
    "\n",
    "# custom function for RFI feature selection inside a pipeline\n",
    "# here we use n_estimators=100\n",
    "class RFIFeatureSelector(BaseEstimator, TransformerMixin):\n",
    "    \n",
    "    # class constructor \n",
    "    # make sure class attributes end with a \"_\"\n",
    "    # per scikit-learn convention to avoid errors\n",
    "    def __init__(self, n_features_=10):\n",
    "        self.n_features_ = n_features_\n",
    "        self.fs_indices_ = None\n",
    "\n",
    "    # override the fit function\n",
    "    def fit(self, X, y):\n",
    "        from sklearn.ensemble import RandomForestClassifier\n",
    "        from numpy import argsort\n",
    "        model_rfi = RandomForestClassifier(n_estimators=100)\n",
    "        model_rfi.fit(X, y)\n",
    "        self.fs_indices_ = argsort(model_rfi.feature_importances_)[::-1][0:self.n_features_] \n",
    "        return self \n",
    "    \n",
    "    # override the transform function\n",
    "    def transform(self, X, y=None):\n",
    "        return X[:, self.fs_indices_]\n"
   ]
  },
  {
   "cell_type": "code",
   "execution_count": 89,
   "metadata": {},
   "outputs": [],
   "source": [
    "from sklearn.pipeline import Pipeline\n",
    "from sklearn.neighbors import KNeighborsClassifier\n",
    "\n",
    "pipe_KNN = Pipeline(steps=[('rfi_fs', RFIFeatureSelector()), \n",
    "                           ('knn', KNeighborsClassifier())])\n",
    "\n",
    "params_pipe_KNN = {'rfi_fs__n_features_': [10, 20, Data.shape[1]],\n",
    "                   'knn__n_neighbors': range(1,30),\n",
    "                   'knn__p': [1, 2]}\n",
    "\n",
    "gs_pipe_KNN = GridSearchCV(estimator=pipe_KNN, \n",
    "                           param_grid=params_pipe_KNN, \n",
    "                           cv=cv_method,\n",
    "                           refit=True,\n",
    "                           n_jobs=-2,\n",
    "                           scoring='roc_auc',\n",
    "                           verbose=1) "
   ]
  },
  {
   "cell_type": "code",
   "execution_count": 90,
   "metadata": {},
   "outputs": [
    {
     "name": "stdout",
     "output_type": "stream",
     "text": [
      "Fitting 5 folds for each of 174 candidates, totalling 870 fits\n"
     ]
    },
    {
     "name": "stderr",
     "output_type": "stream",
     "text": [
      "[Parallel(n_jobs=-2)]: Using backend LokyBackend with 3 concurrent workers.\n",
      "[Parallel(n_jobs=-2)]: Done  52 tasks      | elapsed:    4.7s\n",
      "[Parallel(n_jobs=-2)]: Done 352 tasks      | elapsed:   15.1s\n",
      "[Parallel(n_jobs=-2)]: Done 852 tasks      | elapsed:   30.4s\n",
      "[Parallel(n_jobs=-2)]: Done 870 out of 870 | elapsed:   31.0s finished\n"
     ]
    }
   ],
   "source": [
    "gs_pipe_KNN.fit(X_train, y_train);"
   ]
  },
  {
   "cell_type": "code",
   "execution_count": 91,
   "metadata": {},
   "outputs": [
    {
     "data": {
      "text/plain": [
       "{'knn__n_neighbors': 22, 'knn__p': 1, 'rfi_fs__n_features_': 10}"
      ]
     },
     "execution_count": 91,
     "metadata": {},
     "output_type": "execute_result"
    }
   ],
   "source": [
    "gs_pipe_KNN.best_params_"
   ]
  },
  {
   "cell_type": "code",
   "execution_count": 92,
   "metadata": {},
   "outputs": [
    {
     "data": {
      "text/plain": [
       "0.9011394465545307"
      ]
     },
     "execution_count": 92,
     "metadata": {},
     "output_type": "execute_result"
    }
   ],
   "source": [
    "gs_pipe_KNN.best_score_"
   ]
  },
  {
   "cell_type": "markdown",
   "metadata": {},
   "source": [
    "The optimal or ideal values for KNN model include 22 nearest neighbours and p = 1. The mean AUC score of 0.90 was observed from the optimal KNN model."
   ]
  },
  {
   "cell_type": "code",
   "execution_count": 93,
   "metadata": {},
   "outputs": [],
   "source": [
    "# custom function to format the search results as a Pandas data frame\n",
    "def get_search_results(gs):\n",
    "\n",
    "    def model_result(scores, params):\n",
    "        scores = {'mean_score': np.mean(scores),\n",
    "             'std_score': np.std(scores),\n",
    "             'min_score': np.min(scores),\n",
    "             'max_score': np.max(scores)}\n",
    "        return pd.Series({**params,**scores})\n",
    "\n",
    "    models = []\n",
    "    scores = []\n",
    "\n",
    "    for i in range(gs.n_splits_):\n",
    "        key = f\"split{i}_test_score\"\n",
    "        r = gs.cv_results_[key]        \n",
    "        scores.append(r.reshape(-1,1))\n",
    "\n",
    "    all_scores = np.hstack(scores)\n",
    "    for p, s in zip(gs.cv_results_['params'], all_scores):\n",
    "        models.append((model_result(s, p)))\n",
    "\n",
    "    pipe_results = pd.concat(models, axis=1).T.sort_values(['mean_score'], ascending=False)\n",
    "\n",
    "    columns_first = ['mean_score', 'std_score', 'max_score', 'min_score']\n",
    "    columns = columns_first + [c for c in pipe_results.columns if c not in columns_first]\n",
    "\n",
    "    return pipe_results[columns]"
   ]
  },
  {
   "cell_type": "code",
   "execution_count": 94,
   "metadata": {},
   "outputs": [
    {
     "data": {
      "text/html": [
       "<div>\n",
       "<style scoped>\n",
       "    .dataframe tbody tr th:only-of-type {\n",
       "        vertical-align: middle;\n",
       "    }\n",
       "\n",
       "    .dataframe tbody tr th {\n",
       "        vertical-align: top;\n",
       "    }\n",
       "\n",
       "    .dataframe thead th {\n",
       "        text-align: right;\n",
       "    }\n",
       "</style>\n",
       "<table border=\"1\" class=\"dataframe\">\n",
       "  <thead>\n",
       "    <tr style=\"text-align: right;\">\n",
       "      <th></th>\n",
       "      <th>mean_score</th>\n",
       "      <th>std_score</th>\n",
       "      <th>max_score</th>\n",
       "      <th>min_score</th>\n",
       "      <th>knn__n_neighbors</th>\n",
       "      <th>knn__p</th>\n",
       "      <th>rfi_fs__n_features_</th>\n",
       "    </tr>\n",
       "  </thead>\n",
       "  <tbody>\n",
       "    <tr>\n",
       "      <th>126</th>\n",
       "      <td>0.901058</td>\n",
       "      <td>0.027847</td>\n",
       "      <td>0.943750</td>\n",
       "      <td>0.86625</td>\n",
       "      <td>22.0</td>\n",
       "      <td>1.0</td>\n",
       "      <td>10.0</td>\n",
       "    </tr>\n",
       "    <tr>\n",
       "      <th>120</th>\n",
       "      <td>0.899936</td>\n",
       "      <td>0.032795</td>\n",
       "      <td>0.942500</td>\n",
       "      <td>0.84250</td>\n",
       "      <td>21.0</td>\n",
       "      <td>1.0</td>\n",
       "      <td>10.0</td>\n",
       "    </tr>\n",
       "    <tr>\n",
       "      <th>132</th>\n",
       "      <td>0.896916</td>\n",
       "      <td>0.031491</td>\n",
       "      <td>0.940000</td>\n",
       "      <td>0.84375</td>\n",
       "      <td>23.0</td>\n",
       "      <td>1.0</td>\n",
       "      <td>10.0</td>\n",
       "    </tr>\n",
       "    <tr>\n",
       "      <th>138</th>\n",
       "      <td>0.895727</td>\n",
       "      <td>0.028513</td>\n",
       "      <td>0.937500</td>\n",
       "      <td>0.85000</td>\n",
       "      <td>24.0</td>\n",
       "      <td>1.0</td>\n",
       "      <td>10.0</td>\n",
       "    </tr>\n",
       "    <tr>\n",
       "      <th>78</th>\n",
       "      <td>0.895659</td>\n",
       "      <td>0.016358</td>\n",
       "      <td>0.916898</td>\n",
       "      <td>0.86750</td>\n",
       "      <td>14.0</td>\n",
       "      <td>1.0</td>\n",
       "      <td>10.0</td>\n",
       "    </tr>\n",
       "  </tbody>\n",
       "</table>\n",
       "</div>"
      ],
      "text/plain": [
       "     mean_score  std_score  max_score  min_score  knn__n_neighbors  knn__p  \\\n",
       "126    0.901058   0.027847   0.943750    0.86625              22.0     1.0   \n",
       "120    0.899936   0.032795   0.942500    0.84250              21.0     1.0   \n",
       "132    0.896916   0.031491   0.940000    0.84375              23.0     1.0   \n",
       "138    0.895727   0.028513   0.937500    0.85000              24.0     1.0   \n",
       "78     0.895659   0.016358   0.916898    0.86750              14.0     1.0   \n",
       "\n",
       "     rfi_fs__n_features_  \n",
       "126                 10.0  \n",
       "120                 10.0  \n",
       "132                 10.0  \n",
       "138                 10.0  \n",
       "78                  10.0  "
      ]
     },
     "execution_count": 94,
     "metadata": {},
     "output_type": "execute_result"
    }
   ],
   "source": [
    "results_KNN = get_search_results(gs_pipe_KNN)\n",
    "results_KNN.head()"
   ]
  },
  {
   "cell_type": "markdown",
   "metadata": {},
   "source": [
    "As observed above we see that there is very less difference between hyperparameter combination when conditioned on a number of features selected. Lets visualize the results on the grid search corresponding to 10 selected features."
   ]
  },
  {
   "cell_type": "code",
   "execution_count": 95,
   "metadata": {},
   "outputs": [
    {
     "data": {
      "application/javascript": [
       "var spec = {\"config\": {\"view\": {\"width\": 400, \"height\": 300}, \"mark\": {\"tooltip\": null}}, \"data\": {\"name\": \"data-33c1fc63046dcd4bb6960bae3a2bb5ea\"}, \"mark\": {\"type\": \"line\", \"point\": true}, \"encoding\": {\"color\": {\"type\": \"nominal\", \"field\": \"knn__p\", \"title\": \"p\"}, \"x\": {\"type\": \"quantitative\", \"field\": \"knn__n_neighbors\", \"title\": \"Number of Neighbors\"}, \"y\": {\"type\": \"quantitative\", \"field\": \"mean_score\", \"scale\": {\"zero\": false}, \"title\": \"AUC Score\"}}, \"title\": \"KNN Performance Comparison with 10 Features\", \"$schema\": \"https://vega.github.io/schema/vega-lite/v3.3.0.json\", \"datasets\": {\"data-33c1fc63046dcd4bb6960bae3a2bb5ea\": [{\"mean_score\": 0.9010581717451525, \"std_score\": 0.02784689146841929, \"max_score\": 0.9437499999999999, \"min_score\": 0.86625, \"knn__n_neighbors\": 22.0, \"knn__p\": 1.0, \"rfi_fs__n_features_\": 10.0}, {\"mean_score\": 0.8999362880886427, \"std_score\": 0.03279463626385072, \"max_score\": 0.9425, \"min_score\": 0.8424999999999999, \"knn__n_neighbors\": 21.0, \"knn__p\": 1.0, \"rfi_fs__n_features_\": 10.0}, {\"mean_score\": 0.8969162049861495, \"std_score\": 0.031491124447400085, \"max_score\": 0.94, \"min_score\": 0.84375, \"knn__n_neighbors\": 23.0, \"knn__p\": 1.0, \"rfi_fs__n_features_\": 10.0}, {\"mean_score\": 0.8957271468144045, \"std_score\": 0.028513020569317565, \"max_score\": 0.9375, \"min_score\": 0.85, \"knn__n_neighbors\": 24.0, \"knn__p\": 1.0, \"rfi_fs__n_features_\": 10.0}, {\"mean_score\": 0.8956592797783933, \"std_score\": 0.01635844273521273, \"max_score\": 0.9168975069252078, \"min_score\": 0.8675, \"knn__n_neighbors\": 14.0, \"knn__p\": 1.0, \"rfi_fs__n_features_\": 10.0}, {\"mean_score\": 0.8950713296398891, \"std_score\": 0.02528239607893381, \"max_score\": 0.922437673130194, \"min_score\": 0.8487499999999999, \"knn__n_neighbors\": 17.0, \"knn__p\": 1.0, \"rfi_fs__n_features_\": 10.0}, {\"mean_score\": 0.8939972299168975, \"std_score\": 0.026541752717532074, \"max_score\": 0.9224376731301939, \"min_score\": 0.855, \"knn__n_neighbors\": 16.0, \"knn__p\": 1.0, \"rfi_fs__n_features_\": 10.0}, {\"mean_score\": 0.8937202216066481, \"std_score\": 0.023591556466534547, \"max_score\": 0.915, \"min_score\": 0.8499999999999999, \"knn__n_neighbors\": 25.0, \"knn__p\": 1.0, \"rfi_fs__n_features_\": 10.0}, {\"mean_score\": 0.8931391966759001, \"std_score\": 0.036145739837582055, \"max_score\": 0.93625, \"min_score\": 0.83, \"knn__n_neighbors\": 29.0, \"knn__p\": 1.0, \"rfi_fs__n_features_\": 10.0}, {\"mean_score\": 0.8931121883656509, \"std_score\": 0.020372394206739926, \"max_score\": 0.9141274238227146, \"min_score\": 0.8625, \"knn__n_neighbors\": 11.0, \"knn__p\": 1.0, \"rfi_fs__n_features_\": 10.0}, {\"mean_score\": 0.8927070637119113, \"std_score\": 0.03515364206815114, \"max_score\": 0.94375, \"min_score\": 0.8425, \"knn__n_neighbors\": 27.0, \"knn__p\": 1.0, \"rfi_fs__n_features_\": 10.0}, {\"mean_score\": 0.8911662049861494, \"std_score\": 0.02648898270953698, \"max_score\": 0.9182825484764542, \"min_score\": 0.8474999999999999, \"knn__n_neighbors\": 19.0, \"knn__p\": 1.0, \"rfi_fs__n_features_\": 10.0}, {\"mean_score\": 0.8907880886426593, \"std_score\": 0.03754051236157599, \"max_score\": 0.9424999999999999, \"min_score\": 0.83, \"knn__n_neighbors\": 28.0, \"knn__p\": 1.0, \"rfi_fs__n_features_\": 10.0}, {\"mean_score\": 0.8899162049861497, \"std_score\": 0.03159638772789581, \"max_score\": 0.9182825484764543, \"min_score\": 0.835, \"knn__n_neighbors\": 20.0, \"knn__p\": 1.0, \"rfi_fs__n_features_\": 10.0}, {\"mean_score\": 0.8881731301939058, \"std_score\": 0.0269929953027237, \"max_score\": 0.9210526315789473, \"min_score\": 0.8525, \"knn__n_neighbors\": 18.0, \"knn__p\": 1.0, \"rfi_fs__n_features_\": 10.0}, {\"mean_score\": 0.8880650969529086, \"std_score\": 0.023219086902324142, \"max_score\": 0.9099722991689749, \"min_score\": 0.85, \"knn__n_neighbors\": 26.0, \"knn__p\": 1.0, \"rfi_fs__n_features_\": 10.0}, {\"mean_score\": 0.8875720221606649, \"std_score\": 0.027268953147145357, \"max_score\": 0.9127423822714682, \"min_score\": 0.8490304709141274, \"knn__n_neighbors\": 15.0, \"knn__p\": 1.0, \"rfi_fs__n_features_\": 10.0}, {\"mean_score\": 0.8871260387811635, \"std_score\": 0.022811324772903735, \"max_score\": 0.9099722991689752, \"min_score\": 0.85625, \"knn__n_neighbors\": 12.0, \"knn__p\": 1.0, \"rfi_fs__n_features_\": 10.0}, {\"mean_score\": 0.8864369806094181, \"std_score\": 0.01842663933362215, \"max_score\": 0.9113573407202216, \"min_score\": 0.8601108033240997, \"knn__n_neighbors\": 13.0, \"knn__p\": 1.0, \"rfi_fs__n_features_\": 10.0}, {\"mean_score\": 0.8852340720221606, \"std_score\": 0.023926696886136016, \"max_score\": 0.9044321329639888, \"min_score\": 0.84375, \"knn__n_neighbors\": 7.0, \"knn__p\": 1.0, \"rfi_fs__n_features_\": 10.0}, {\"mean_score\": 0.8839030470914127, \"std_score\": 0.035454551300898814, \"max_score\": 0.92125, \"min_score\": 0.82375, \"knn__n_neighbors\": 19.0, \"knn__p\": 2.0, \"rfi_fs__n_features_\": 10.0}, {\"mean_score\": 0.8834030470914126, \"std_score\": 0.020485024107817783, \"max_score\": 0.8987499999999999, \"min_score\": 0.84375, \"knn__n_neighbors\": 9.0, \"knn__p\": 1.0, \"rfi_fs__n_features_\": 10.0}, {\"mean_score\": 0.8820519390581717, \"std_score\": 0.03520207664108747, \"max_score\": 0.925, \"min_score\": 0.8287500000000001, \"knn__n_neighbors\": 18.0, \"knn__p\": 2.0, \"rfi_fs__n_features_\": 10.0}, {\"mean_score\": 0.8807950138504154, \"std_score\": 0.0387293415261795, \"max_score\": 0.9168975069252077, \"min_score\": 0.8187499999999999, \"knn__n_neighbors\": 25.0, \"knn__p\": 2.0, \"rfi_fs__n_features_\": 10.0}, {\"mean_score\": 0.8805789473684209, \"std_score\": 0.026303336315741423, \"max_score\": 0.9113573407202215, \"min_score\": 0.8399999999999999, \"knn__n_neighbors\": 17.0, \"knn__p\": 2.0, \"rfi_fs__n_features_\": 10.0}, {\"mean_score\": 0.8794168975069251, \"std_score\": 0.021410243674380023, \"max_score\": 0.9037499999999999, \"min_score\": 0.84375, \"knn__n_neighbors\": 10.0, \"knn__p\": 1.0, \"rfi_fs__n_features_\": 10.0}, {\"mean_score\": 0.8784639889196676, \"std_score\": 0.0399184377832626, \"max_score\": 0.9141274238227146, \"min_score\": 0.81375, \"knn__n_neighbors\": 22.0, \"knn__p\": 2.0, \"rfi_fs__n_features_\": 10.0}, {\"mean_score\": 0.8770117728531857, \"std_score\": 0.02549443861459139, \"max_score\": 0.9099999999999999, \"min_score\": 0.8462500000000001, \"knn__n_neighbors\": 8.0, \"knn__p\": 2.0, \"rfi_fs__n_features_\": 10.0}, {\"mean_score\": 0.8768628808864264, \"std_score\": 0.0282390679383495, \"max_score\": 0.90875, \"min_score\": 0.82875, \"knn__n_neighbors\": 12.0, \"knn__p\": 2.0, \"rfi_fs__n_features_\": 10.0}, {\"mean_score\": 0.8764508310249308, \"std_score\": 0.041849283733578845, \"max_score\": 0.925, \"min_score\": 0.81875, \"knn__n_neighbors\": 20.0, \"knn__p\": 2.0, \"rfi_fs__n_features_\": 10.0}, {\"mean_score\": 0.8760318559556787, \"std_score\": 0.027621299957732635, \"max_score\": 0.9182825484764544, \"min_score\": 0.8425, \"knn__n_neighbors\": 9.0, \"knn__p\": 2.0, \"rfi_fs__n_features_\": 10.0}, {\"mean_score\": 0.8751468144044321, \"std_score\": 0.023300746565663097, \"max_score\": 0.9044321329639888, \"min_score\": 0.84375, \"knn__n_neighbors\": 15.0, \"knn__p\": 2.0, \"rfi_fs__n_features_\": 10.0}, {\"mean_score\": 0.8750249307479224, \"std_score\": 0.04618935478964003, \"max_score\": 0.925207756232687, \"min_score\": 0.81, \"knn__n_neighbors\": 24.0, \"knn__p\": 2.0, \"rfi_fs__n_features_\": 10.0}, {\"mean_score\": 0.8747548476454293, \"std_score\": 0.019844566590179354, \"max_score\": 0.8975069252077562, \"min_score\": 0.8425, \"knn__n_neighbors\": 14.0, \"knn__p\": 2.0, \"rfi_fs__n_features_\": 10.0}, {\"mean_score\": 0.8743427977839335, \"std_score\": 0.022978643546860824, \"max_score\": 0.9030470914127423, \"min_score\": 0.8412499999999999, \"knn__n_neighbors\": 8.0, \"knn__p\": 1.0, \"rfi_fs__n_features_\": 10.0}, {\"mean_score\": 0.8742340720221607, \"std_score\": 0.03473672650546047, \"max_score\": 0.9224376731301938, \"min_score\": 0.8212499999999999, \"knn__n_neighbors\": 28.0, \"knn__p\": 2.0, \"rfi_fs__n_features_\": 10.0}, {\"mean_score\": 0.8739168975069254, \"std_score\": 0.030403580098380303, \"max_score\": 0.9058171745152355, \"min_score\": 0.8200000000000001, \"knn__n_neighbors\": 16.0, \"knn__p\": 2.0, \"rfi_fs__n_features_\": 10.0}, {\"mean_score\": 0.8732340720221607, \"std_score\": 0.03529542579229507, \"max_score\": 0.9196675900277007, \"min_score\": 0.8212499999999999, \"knn__n_neighbors\": 27.0, \"knn__p\": 2.0, \"rfi_fs__n_features_\": 10.0}, {\"mean_score\": 0.87319459833795, \"std_score\": 0.031241771317077838, \"max_score\": 0.9162500000000001, \"min_score\": 0.8421052631578947, \"knn__n_neighbors\": 10.0, \"knn__p\": 2.0, \"rfi_fs__n_features_\": 10.0}, {\"mean_score\": 0.8720657894736842, \"std_score\": 0.02672155154943376, \"max_score\": 0.90125, \"min_score\": 0.8274999999999999, \"knn__n_neighbors\": 5.0, \"knn__p\": 2.0, \"rfi_fs__n_features_\": 10.0}, {\"mean_score\": 0.8720387811634348, \"std_score\": 0.034343485347359315, \"max_score\": 0.91125, \"min_score\": 0.81875, \"knn__n_neighbors\": 7.0, \"knn__p\": 2.0, \"rfi_fs__n_features_\": 10.0}, {\"mean_score\": 0.8714106648199446, \"std_score\": 0.029938441701447327, \"max_score\": 0.9125, \"min_score\": 0.83375, \"knn__n_neighbors\": 13.0, \"knn__p\": 2.0, \"rfi_fs__n_features_\": 10.0}, {\"mean_score\": 0.8703358725761772, \"std_score\": 0.04013660338194438, \"max_score\": 0.9210526315789473, \"min_score\": 0.8199445983379502, \"knn__n_neighbors\": 29.0, \"knn__p\": 2.0, \"rfi_fs__n_features_\": 10.0}, {\"mean_score\": 0.8687749307479224, \"std_score\": 0.040534372962418914, \"max_score\": 0.9182825484764542, \"min_score\": 0.81, \"knn__n_neighbors\": 23.0, \"knn__p\": 2.0, \"rfi_fs__n_features_\": 10.0}, {\"mean_score\": 0.8679709141274238, \"std_score\": 0.02606025297886413, \"max_score\": 0.8961218836565097, \"min_score\": 0.82, \"knn__n_neighbors\": 4.0, \"knn__p\": 2.0, \"rfi_fs__n_features_\": 10.0}, {\"mean_score\": 0.8678628808864264, \"std_score\": 0.04305190789489265, \"max_score\": 0.90625, \"min_score\": 0.78625, \"knn__n_neighbors\": 5.0, \"knn__p\": 1.0, \"rfi_fs__n_features_\": 10.0}, {\"mean_score\": 0.8666198060941829, \"std_score\": 0.038476799704888556, \"max_score\": 0.9099722991689749, \"min_score\": 0.81625, \"knn__n_neighbors\": 21.0, \"knn__p\": 2.0, \"rfi_fs__n_features_\": 10.0}, {\"mean_score\": 0.8658698060941828, \"std_score\": 0.03778045675397579, \"max_score\": 0.9182825484764542, \"min_score\": 0.8171745152354571, \"knn__n_neighbors\": 26.0, \"knn__p\": 2.0, \"rfi_fs__n_features_\": 10.0}, {\"mean_score\": 0.8653497229916898, \"std_score\": 0.03259253192220466, \"max_score\": 0.9072022160664819, \"min_score\": 0.81375, \"knn__n_neighbors\": 6.0, \"knn__p\": 1.0, \"rfi_fs__n_features_\": 10.0}, {\"mean_score\": 0.8638635734072022, \"std_score\": 0.026140746421551897, \"max_score\": 0.9044321329639889, \"min_score\": 0.8387500000000001, \"knn__n_neighbors\": 11.0, \"knn__p\": 2.0, \"rfi_fs__n_features_\": 10.0}, {\"mean_score\": 0.8635186980609418, \"std_score\": 0.027333823648086907, \"max_score\": 0.9002770083102494, \"min_score\": 0.8200000000000001, \"knn__n_neighbors\": 6.0, \"knn__p\": 2.0, \"rfi_fs__n_features_\": 10.0}, {\"mean_score\": 0.8573296398891965, \"std_score\": 0.025214439161618137, \"max_score\": 0.9016620498614958, \"min_score\": 0.825, \"knn__n_neighbors\": 3.0, \"knn__p\": 2.0, \"rfi_fs__n_features_\": 10.0}, {\"mean_score\": 0.8568635734072023, \"std_score\": 0.027359822631270073, \"max_score\": 0.8825, \"min_score\": 0.8062500000000001, \"knn__n_neighbors\": 3.0, \"knn__p\": 1.0, \"rfi_fs__n_features_\": 10.0}, {\"mean_score\": 0.8518573407202217, \"std_score\": 0.039285171712356466, \"max_score\": 0.91125, \"min_score\": 0.79125, \"knn__n_neighbors\": 2.0, \"knn__p\": 1.0, \"rfi_fs__n_features_\": 10.0}, {\"mean_score\": 0.8478365650969529, \"std_score\": 0.04159684031299157, \"max_score\": 0.8775, \"min_score\": 0.7675000000000001, \"knn__n_neighbors\": 4.0, \"knn__p\": 1.0, \"rfi_fs__n_features_\": 10.0}, {\"mean_score\": 0.8382160664819944, \"std_score\": 0.022081381656970347, \"max_score\": 0.871191135734072, \"min_score\": 0.8019390581717452, \"knn__n_neighbors\": 2.0, \"knn__p\": 2.0, \"rfi_fs__n_features_\": 10.0}, {\"mean_score\": 0.82, \"std_score\": 0.02976593825721626, \"max_score\": 0.868421052631579, \"min_score\": 0.775, \"knn__n_neighbors\": 1.0, \"knn__p\": 1.0, \"rfi_fs__n_features_\": 10.0}, {\"mean_score\": 0.7939473684210525, \"std_score\": 0.04729233655628482, \"max_score\": 0.85, \"min_score\": 0.7249999999999999, \"knn__n_neighbors\": 1.0, \"knn__p\": 2.0, \"rfi_fs__n_features_\": 10.0}]}};\n",
       "var opt = {};\n",
       "var type = \"vega-lite\";\n",
       "var id = \"7d81aa5a-61c6-4ecb-a093-7c12de63dbf6\";\n",
       "\n",
       "var output_area = this;\n",
       "\n",
       "require([\"nbextensions/jupyter-vega/index\"], function(vega) {\n",
       "  var target = document.createElement(\"div\");\n",
       "  target.id = id;\n",
       "  target.className = \"vega-embed\";\n",
       "\n",
       "  var style = document.createElement(\"style\");\n",
       "  style.textContent = [\n",
       "    \".vega-embed .error p {\",\n",
       "    \"  color: firebrick;\",\n",
       "    \"  font-size: 14px;\",\n",
       "    \"}\",\n",
       "  ].join(\"\\\\n\");\n",
       "\n",
       "  // element is a jQuery wrapped DOM element inside the output area\n",
       "  // see http://ipython.readthedocs.io/en/stable/api/generated/\\\n",
       "  // IPython.display.html#IPython.display.Javascript.__init__\n",
       "  element[0].appendChild(target);\n",
       "  element[0].appendChild(style);\n",
       "\n",
       "  vega.render(\"#\" + id, spec, type, opt, output_area);\n",
       "}, function (err) {\n",
       "  if (err.requireType !== \"scripterror\") {\n",
       "    throw(err);\n",
       "  }\n",
       "});\n"
      ],
      "text/plain": [
       "<vega.vegalite.VegaLite at 0x106753d30>"
      ]
     },
     "metadata": {
      "jupyter-vega": "#7d81aa5a-61c6-4ecb-a093-7c12de63dbf6"
     },
     "output_type": "display_data"
    },
    {
     "data": {
      "text/plain": []
     },
     "execution_count": 95,
     "metadata": {},
     "output_type": "execute_result"
    },
    {
     "data": {
      "image/png": "[encoded data removed]"
     },
     "metadata": {
      "jupyter-vega": "#7d81aa5a-61c6-4ecb-a093-7c12de63dbf6"
     },
     "output_type": "display_data"
    }
   ],
   "source": [
    "import altair as alt\n",
    "\n",
    "results_KNN_10_features = results_KNN[results_KNN['rfi_fs__n_features_'] == 10.0]\n",
    "\n",
    "alt.Chart(results_KNN_10_features, \n",
    "          title='KNN Performance Comparison with 10 Features'\n",
    "         ).mark_line(point=True).encode(\n",
    "    alt.X('knn__n_neighbors', title='Number of Neighbors'),\n",
    "    alt.Y('mean_score', title='AUC Score', scale=alt.Scale(zero=False)),\n",
    "    alt.Color('knn__p:N', title='p')\n",
    ")"
   ]
  },
  {
   "cell_type": "markdown",
   "metadata": {},
   "source": [
    "## (Gaussian) Naive Bayes (NB)\n",
    "Naive Bayes classifier are a family of simple probabilistic classifiers with strong independence assumption between features.\n",
    "We implement this model by optimizing the variant of laplace smoothing. Since NB requires each descriptive feature to follow a Gasussian distribution, we first perform a power transformation on the input data before model fitting."
   ]
  },
  {
   "cell_type": "code",
   "execution_count": 96,
   "metadata": {},
   "outputs": [],
   "source": [
    "from sklearn.preprocessing import PowerTransformer\n",
    "X_train_transformed = PowerTransformer().fit_transform(X_train)"
   ]
  },
  {
   "cell_type": "code",
   "execution_count": 97,
   "metadata": {},
   "outputs": [
    {
     "name": "stdout",
     "output_type": "stream",
     "text": [
      "Fitting 5 folds for each of 30 candidates, totalling 150 fits\n"
     ]
    },
    {
     "name": "stderr",
     "output_type": "stream",
     "text": [
      "[Parallel(n_jobs=-2)]: Using backend LokyBackend with 3 concurrent workers.\n",
      "[Parallel(n_jobs=-2)]: Done  82 tasks      | elapsed:    3.0s\n",
      "[Parallel(n_jobs=-2)]: Done 150 out of 150 | elapsed:    5.1s finished\n"
     ]
    }
   ],
   "source": [
    "from sklearn.naive_bayes import GaussianNB\n",
    "from sklearn.model_selection import RandomizedSearchCV\n",
    "\n",
    "pipe_NB = Pipeline([('rfi_fs', RFIFeatureSelector()), \n",
    "                     ('nb', GaussianNB())])\n",
    "\n",
    "params_pipe_NB = {'rfi_fs__n_features_': [10, 20, Data.shape[1]],\n",
    "                  'nb__var_smoothing': np.logspace(1,-3, num=200)}\n",
    "\n",
    "n_iter_search = 30\n",
    "gs_pipe_NB = RandomizedSearchCV(estimator=pipe_NB, \n",
    "                          param_distributions=params_pipe_NB, \n",
    "                          cv=cv_method,\n",
    "                          refit=True,\n",
    "                          n_jobs=-2,\n",
    "                          scoring='roc_auc',\n",
    "                          n_iter=n_iter_search,\n",
    "                          verbose=1) \n",
    "\n",
    "gs_pipe_NB.fit(X_train_transformed, y_train);"
   ]
  },
  {
   "cell_type": "code",
   "execution_count": 98,
   "metadata": {},
   "outputs": [
    {
     "data": {
      "text/plain": [
       "{'rfi_fs__n_features_': 20, 'nb__var_smoothing': 8.703591361485161}"
      ]
     },
     "execution_count": 98,
     "metadata": {},
     "output_type": "execute_result"
    }
   ],
   "source": [
    "gs_pipe_NB.best_params_"
   ]
  },
  {
   "cell_type": "code",
   "execution_count": 99,
   "metadata": {},
   "outputs": [
    {
     "data": {
      "text/plain": [
       "0.894384156266956"
      ]
     },
     "execution_count": 99,
     "metadata": {},
     "output_type": "execute_result"
    }
   ],
   "source": [
    "gs_pipe_NB.best_score_"
   ]
  },
  {
   "cell_type": "markdown",
   "metadata": {},
   "source": [
    "The optimal NB yields an AUC score of 0.896 with 10 features which is less compared to KNN.However,  We perform a paried t test  later to compare the performance of model."
   ]
  },
  {
   "cell_type": "code",
   "execution_count": 100,
   "metadata": {},
   "outputs": [
    {
     "data": {
      "text/html": [
       "<div>\n",
       "<style scoped>\n",
       "    .dataframe tbody tr th:only-of-type {\n",
       "        vertical-align: middle;\n",
       "    }\n",
       "\n",
       "    .dataframe tbody tr th {\n",
       "        vertical-align: top;\n",
       "    }\n",
       "\n",
       "    .dataframe thead th {\n",
       "        text-align: right;\n",
       "    }\n",
       "</style>\n",
       "<table border=\"1\" class=\"dataframe\">\n",
       "  <thead>\n",
       "    <tr style=\"text-align: right;\">\n",
       "      <th></th>\n",
       "      <th>mean_score</th>\n",
       "      <th>std_score</th>\n",
       "      <th>max_score</th>\n",
       "      <th>min_score</th>\n",
       "      <th>rfi_fs__n_features_</th>\n",
       "      <th>nb__var_smoothing</th>\n",
       "    </tr>\n",
       "  </thead>\n",
       "  <tbody>\n",
       "    <tr>\n",
       "      <th>28</th>\n",
       "      <td>0.894450</td>\n",
       "      <td>0.026817</td>\n",
       "      <td>0.9325</td>\n",
       "      <td>0.85</td>\n",
       "      <td>20.0</td>\n",
       "      <td>8.703591</td>\n",
       "    </tr>\n",
       "    <tr>\n",
       "      <th>17</th>\n",
       "      <td>0.893950</td>\n",
       "      <td>0.026117</td>\n",
       "      <td>0.9300</td>\n",
       "      <td>0.85</td>\n",
       "      <td>20.0</td>\n",
       "      <td>6.905514</td>\n",
       "    </tr>\n",
       "    <tr>\n",
       "      <th>11</th>\n",
       "      <td>0.893896</td>\n",
       "      <td>0.027456</td>\n",
       "      <td>0.9325</td>\n",
       "      <td>0.85</td>\n",
       "      <td>13.0</td>\n",
       "      <td>1.570290</td>\n",
       "    </tr>\n",
       "    <tr>\n",
       "      <th>20</th>\n",
       "      <td>0.893896</td>\n",
       "      <td>0.027456</td>\n",
       "      <td>0.9325</td>\n",
       "      <td>0.85</td>\n",
       "      <td>13.0</td>\n",
       "      <td>1.644676</td>\n",
       "    </tr>\n",
       "    <tr>\n",
       "      <th>14</th>\n",
       "      <td>0.893342</td>\n",
       "      <td>0.027237</td>\n",
       "      <td>0.9325</td>\n",
       "      <td>0.85</td>\n",
       "      <td>20.0</td>\n",
       "      <td>1.889652</td>\n",
       "    </tr>\n",
       "  </tbody>\n",
       "</table>\n",
       "</div>"
      ],
      "text/plain": [
       "    mean_score  std_score  max_score  min_score  rfi_fs__n_features_  \\\n",
       "28    0.894450   0.026817     0.9325       0.85                 20.0   \n",
       "17    0.893950   0.026117     0.9300       0.85                 20.0   \n",
       "11    0.893896   0.027456     0.9325       0.85                 13.0   \n",
       "20    0.893896   0.027456     0.9325       0.85                 13.0   \n",
       "14    0.893342   0.027237     0.9325       0.85                 20.0   \n",
       "\n",
       "    nb__var_smoothing  \n",
       "28           8.703591  \n",
       "17           6.905514  \n",
       "11           1.570290  \n",
       "20           1.644676  \n",
       "14           1.889652  "
      ]
     },
     "execution_count": 100,
     "metadata": {},
     "output_type": "execute_result"
    }
   ],
   "source": [
    "results_NB = get_search_results(gs_pipe_NB)\n",
    "results_NB.head()"
   ]
  },
  {
   "cell_type": "code",
   "execution_count": 101,
   "metadata": {},
   "outputs": [
    {
     "data": {
      "application/javascript": [
       "var spec = {\"config\": {\"view\": {\"width\": 400, \"height\": 300}, \"mark\": {\"tooltip\": null}}, \"data\": {\"name\": \"data-8f7daa7574de7ffbc5a0925edf393131\"}, \"mark\": {\"type\": \"line\", \"point\": true}, \"encoding\": {\"x\": {\"type\": \"quantitative\", \"field\": \"nb__var_smoothing\", \"title\": \"Var. Smoothing\"}, \"y\": {\"type\": \"quantitative\", \"field\": \"mean_score\", \"scale\": {\"zero\": false}, \"title\": \"AUC Score\"}}, \"title\": \"NB Performance Comparison with 10 Features\", \"$schema\": \"https://vega.github.io/schema/vega-lite/v3.3.0.json\", \"datasets\": {\"data-8f7daa7574de7ffbc5a0925edf393131\": [{\"mean_score\": 0.8862479224376731, \"std_score\": 0.031212782228096102, \"max_score\": 0.9375, \"min_score\": 0.84, \"rfi_fs__n_features_\": 10.0, \"nb__var_smoothing\": 8.703591361485161}, {\"mean_score\": 0.8853019390581716, \"std_score\": 0.032227861173156146, \"max_score\": 0.9324999999999999, \"min_score\": 0.8374999999999999, \"rfi_fs__n_features_\": 10.0, \"nb__var_smoothing\": 0.009221978823334321}, {\"mean_score\": 0.8842479224376731, \"std_score\": 0.028021946116735794, \"max_score\": 0.9275, \"min_score\": 0.84, \"rfi_fs__n_features_\": 10.0, \"nb__var_smoothing\": 9.115888299750823}, {\"mean_score\": 0.88297783933518, \"std_score\": 0.032247948344358374, \"max_score\": 0.9349999999999999, \"min_score\": 0.8400000000000001, \"rfi_fs__n_features_\": 10.0, \"nb__var_smoothing\": 0.5415871378079473}, {\"mean_score\": 0.8814778393351801, \"std_score\": 0.025875589875906106, \"max_score\": 0.9225, \"min_score\": 0.845, \"rfi_fs__n_features_\": 10.0, \"nb__var_smoothing\": 1.8896523396912097}, {\"mean_score\": 0.8800318559556788, \"std_score\": 0.02668739077063687, \"max_score\": 0.9175, \"min_score\": 0.84, \"rfi_fs__n_features_\": 10.0, \"nb__var_smoothing\": 0.038720387818125535}, {\"mean_score\": 0.8792077562326869, \"std_score\": 0.03274439257061525, \"max_score\": 0.9324999999999999, \"min_score\": 0.8374999999999999, \"rfi_fs__n_features_\": 10.0, \"nb__var_smoothing\": 0.007316807143427192}, {\"mean_score\": 0.8792077562326869, \"std_score\": 0.03274439257061525, \"max_score\": 0.9324999999999999, \"min_score\": 0.8374999999999999, \"rfi_fs__n_features_\": 10.0, \"nb__var_smoothing\": 0.004824108704165369}, {\"mean_score\": 0.8778698060941827, \"std_score\": 0.027452812330858806, \"max_score\": 0.9175, \"min_score\": 0.8374999999999999, \"rfi_fs__n_features_\": 10.0, \"nb__var_smoothing\": 0.17027691722258995}, {\"mean_score\": 0.8762077562326869, \"std_score\": 0.02807920551252629, \"max_score\": 0.9175, \"min_score\": 0.8374999999999999, \"rfi_fs__n_features_\": 10.0, \"nb__var_smoothing\": 0.002196385372416547}]}};\n",
       "var opt = {};\n",
       "var type = \"vega-lite\";\n",
       "var id = \"47930b66-0ef0-41f9-a46d-090e1154c290\";\n",
       "\n",
       "var output_area = this;\n",
       "\n",
       "require([\"nbextensions/jupyter-vega/index\"], function(vega) {\n",
       "  var target = document.createElement(\"div\");\n",
       "  target.id = id;\n",
       "  target.className = \"vega-embed\";\n",
       "\n",
       "  var style = document.createElement(\"style\");\n",
       "  style.textContent = [\n",
       "    \".vega-embed .error p {\",\n",
       "    \"  color: firebrick;\",\n",
       "    \"  font-size: 14px;\",\n",
       "    \"}\",\n",
       "  ].join(\"\\\\n\");\n",
       "\n",
       "  // element is a jQuery wrapped DOM element inside the output area\n",
       "  // see http://ipython.readthedocs.io/en/stable/api/generated/\\\n",
       "  // IPython.display.html#IPython.display.Javascript.__init__\n",
       "  element[0].appendChild(target);\n",
       "  element[0].appendChild(style);\n",
       "\n",
       "  vega.render(\"#\" + id, spec, type, opt, output_area);\n",
       "}, function (err) {\n",
       "  if (err.requireType !== \"scripterror\") {\n",
       "    throw(err);\n",
       "  }\n",
       "});\n"
      ],
      "text/plain": [
       "<vega.vegalite.VegaLite at 0x1a1b5c6908>"
      ]
     },
     "metadata": {
      "jupyter-vega": "#47930b66-0ef0-41f9-a46d-090e1154c290"
     },
     "output_type": "display_data"
    },
    {
     "data": {
      "text/plain": []
     },
     "execution_count": 101,
     "metadata": {},
     "output_type": "execute_result"
    },
    {
     "data": {
      "image/png": "[encoded data removed]"
     },
     "metadata": {
      "jupyter-vega": "#47930b66-0ef0-41f9-a46d-090e1154c290"
     },
     "output_type": "display_data"
    }
   ],
   "source": [
    "results_NB_10_features = results_NB[results_NB['rfi_fs__n_features_'] == 10.0]\n",
    "\n",
    "alt.Chart(results_NB_10_features, \n",
    "          title='NB Performance Comparison with 10 Features'\n",
    "         ).mark_line(point=True).encode(\n",
    "    alt.X('nb__var_smoothing', title='Var. Smoothing'),\n",
    "    alt.Y('mean_score', title='AUC Score', scale=alt.Scale(zero=False))\n",
    ")"
   ]
  },
  {
   "cell_type": "markdown",
   "metadata": {},
   "source": [
    "## Decision Tree(DT)\n",
    "\n",
    "Decision tree another important supervised learning algorithm which splits the population or sample into two or more homogenous sets.\n",
    "We build a decision tree using gini index or entropy as the split criterion to maximize information gain and homogenity. We also aim to determine the optimal parameters for the decsion tree such as maximum depth and minimum sample split.\n"
   ]
  },
  {
   "cell_type": "code",
   "execution_count": 133,
   "metadata": {},
   "outputs": [
    {
     "name": "stdout",
     "output_type": "stream",
     "text": [
      "Fitting 5 folds for each of 36 candidates, totalling 180 fits\n"
     ]
    },
    {
     "name": "stderr",
     "output_type": "stream",
     "text": [
      "[Parallel(n_jobs=-2)]: Using backend LokyBackend with 3 concurrent workers.\n",
      "[Parallel(n_jobs=-2)]: Done  54 tasks      | elapsed:    4.8s\n",
      "[Parallel(n_jobs=-2)]: Done 180 out of 180 | elapsed:    8.5s finished\n"
     ]
    }
   ],
   "source": [
    "# from sklearn.tree import DecisionTreeClassifier\n",
    "# from sklearn.feature_selection import SelectKBest\n",
    "# from sklearn.feature_selection import f_classif\n",
    "# df_classifier = DecisionTreeClassifier(random_state=999)\n",
    "\n",
    "# pipe_DT = Pipeline([('fselector', SelectKBest(score_func=f_classif)),\n",
    "#                     ('dt', df_classifier)])\n",
    "\n",
    "# params_pipe_DT = {'fselector__k': [3],\n",
    "#                   'dt__criterion':['gini', 'entropy'],\n",
    "#                   'dt__max_depth': range(3,10),\n",
    "#                   'dt__min_samples_split': range(2,5)}\n",
    "\n",
    "# gs_pipe_DT = GridSearchCV(estimator=pipe_DT, \n",
    "#                           param_grid=params_pipe_DT, \n",
    "#                           cv=cv_method,\n",
    "#                           refit='accuracy',\n",
    "#                           n_jobs=-2,\n",
    "#                           scoring='accuracy',\n",
    "#                           verbose=1) \n",
    "\n",
    "from sklearn.tree import DecisionTreeClassifier\n",
    "\n",
    "pipe_DT = Pipeline([('rfi_fs', RFIFeatureSelector()),\n",
    "                    ('dt', DecisionTreeClassifier(random_state = 999))])\n",
    "\n",
    "params_pipe_DT = {'rfi_fs__n_features_': [10, 20, Data.shape[1]],\n",
    "                  'dt__criterion' : ['gini', 'entropy'],\n",
    "                  'dt__max_depth': [3, 4, 5],\n",
    "                  'dt__min_samples_split': [2, 5]}\n",
    "\n",
    "gs_pipe_DT = GridSearchCV(estimator=pipe_DT, \n",
    "                          param_grid=params_pipe_DT, \n",
    "                          cv=cv_method,\n",
    "                          refit=True,\n",
    "                          n_jobs=-2,\n",
    "                          scoring='roc_auc',\n",
    "                          verbose=1) \n",
    "\n",
    "gs_pipe_DT.fit(X_train, y_train);"
   ]
  },
  {
   "cell_type": "code",
   "execution_count": 134,
   "metadata": {},
   "outputs": [
    {
     "data": {
      "text/plain": [
       "{'dt__criterion': 'entropy',\n",
       " 'dt__max_depth': 3,\n",
       " 'dt__min_samples_split': 2,\n",
       " 'rfi_fs__n_features_': 20}"
      ]
     },
     "execution_count": 134,
     "metadata": {},
     "output_type": "execute_result"
    }
   ],
   "source": [
    "gs_pipe_DT.best_params_"
   ]
  },
  {
   "cell_type": "code",
   "execution_count": 135,
   "metadata": {
    "scrolled": true
   },
   "outputs": [
    {
     "data": {
      "text/plain": [
       "0.8131036353771025"
      ]
     },
     "execution_count": 135,
     "metadata": {},
     "output_type": "execute_result"
    }
   ],
   "source": [
    "gs_pipe_DT.best_score_"
   ]
  },
  {
   "cell_type": "markdown",
   "metadata": {},
   "source": [
    "The best DT has  a maximum depth of 3 and a min sample split value of 2 samples with an AUC score of 0.8599."
   ]
  },
  {
   "cell_type": "code",
   "execution_count": 136,
   "metadata": {},
   "outputs": [
    {
     "data": {
      "application/javascript": [
       "var spec = {\"config\": {\"view\": {\"width\": 400, \"height\": 300}, \"mark\": {\"tooltip\": null}}, \"data\": {\"name\": \"data-401f94d14012b2cd6d08f5754653694c\"}, \"mark\": {\"type\": \"line\", \"point\": true}, \"encoding\": {\"color\": {\"type\": \"nominal\", \"field\": \"dt__max_depth\", \"title\": \"Max Depth\"}, \"x\": {\"type\": \"quantitative\", \"field\": \"dt__min_samples_split\", \"title\": \"Min Samples for Split\"}, \"y\": {\"type\": \"quantitative\", \"field\": \"mean_score\", \"scale\": {\"zero\": false}, \"title\": \"AUC Score\"}}, \"title\": \"DT Performance Comparison with 10 Features\", \"$schema\": \"https://vega.github.io/schema/vega-lite/v3.3.0.json\", \"datasets\": {\"data-401f94d14012b2cd6d08f5754653694c\": [{\"mean_score\": 0.8084473684210527, \"std_score\": 0.08544514873477513, \"max_score\": 0.87625, \"min_score\": 0.6565096952908587, \"dt__criterion\": \"entropy\", \"dt__max_depth\": 3, \"dt__min_samples_split\": 5, \"rfi_fs__n_features_\": 10}, {\"mean_score\": 0.8001371191135733, \"std_score\": 0.08544052367692505, \"max_score\": 0.87625, \"min_score\": 0.6454293628808864, \"dt__criterion\": \"entropy\", \"dt__max_depth\": 3, \"dt__min_samples_split\": 2, \"rfi_fs__n_features_\": 10}, {\"mean_score\": 0.7875083102493076, \"std_score\": 0.05223976779737038, \"max_score\": 0.8822714681440443, \"min_score\": 0.7216066481994461, \"dt__criterion\": \"entropy\", \"dt__max_depth\": 4, \"dt__min_samples_split\": 5, \"rfi_fs__n_features_\": 10}, {\"mean_score\": 0.7871024930747923, \"std_score\": 0.038616804923820115, \"max_score\": 0.8587257617728531, \"min_score\": 0.7512500000000001, \"dt__criterion\": \"gini\", \"dt__max_depth\": 4, \"dt__min_samples_split\": 2, \"rfi_fs__n_features_\": 10}, {\"mean_score\": 0.7834342105263158, \"std_score\": 0.04773124973170054, \"max_score\": 0.847645429362881, \"min_score\": 0.7105263157894737, \"dt__criterion\": \"gini\", \"dt__max_depth\": 4, \"dt__min_samples_split\": 5, \"rfi_fs__n_features_\": 10}, {\"mean_score\": 0.7832112188365652, \"std_score\": 0.07933561316986656, \"max_score\": 0.8795013850415514, \"min_score\": 0.6875, \"dt__criterion\": \"gini\", \"dt__max_depth\": 3, \"dt__min_samples_split\": 2, \"rfi_fs__n_features_\": 10}, {\"mean_score\": 0.7811980609418282, \"std_score\": 0.06484489924974554, \"max_score\": 0.8822714681440443, \"min_score\": 0.6772853185595568, \"dt__criterion\": \"entropy\", \"dt__max_depth\": 4, \"dt__min_samples_split\": 2, \"rfi_fs__n_features_\": 10}, {\"mean_score\": 0.7809951523545706, \"std_score\": 0.09700043773653545, \"max_score\": 0.909972299168975, \"min_score\": 0.6565096952908587, \"dt__criterion\": \"gini\", \"dt__max_depth\": 3, \"dt__min_samples_split\": 5, \"rfi_fs__n_features_\": 10}, {\"mean_score\": 0.7799542936288089, \"std_score\": 0.05986583148961827, \"max_score\": 0.8462603878116343, \"min_score\": 0.6975, \"dt__criterion\": \"gini\", \"dt__max_depth\": 5, \"dt__min_samples_split\": 2, \"rfi_fs__n_features_\": 10}, {\"mean_score\": 0.7678601108033242, \"std_score\": 0.04906488142550359, \"max_score\": 0.8573407202216066, \"min_score\": 0.7216066481994461, \"dt__criterion\": \"gini\", \"dt__max_depth\": 5, \"dt__min_samples_split\": 5, \"rfi_fs__n_features_\": 10}, {\"mean_score\": 0.7646772853185595, \"std_score\": 0.06671625039820224, \"max_score\": 0.8614958448753463, \"min_score\": 0.6912499999999999, \"dt__criterion\": \"entropy\", \"dt__max_depth\": 5, \"dt__min_samples_split\": 2, \"rfi_fs__n_features_\": 10}, {\"mean_score\": 0.7644009695290858, \"std_score\": 0.05121253953866216, \"max_score\": 0.8476454293628809, \"min_score\": 0.6994459833795014, \"dt__criterion\": \"entropy\", \"dt__max_depth\": 5, \"dt__min_samples_split\": 5, \"rfi_fs__n_features_\": 10}]}};\n",
       "var opt = {};\n",
       "var type = \"vega-lite\";\n",
       "var id = \"b2631b1b-d9d1-4148-a800-57b0a8148f26\";\n",
       "\n",
       "var output_area = this;\n",
       "\n",
       "require([\"nbextensions/jupyter-vega/index\"], function(vega) {\n",
       "  var target = document.createElement(\"div\");\n",
       "  target.id = id;\n",
       "  target.className = \"vega-embed\";\n",
       "\n",
       "  var style = document.createElement(\"style\");\n",
       "  style.textContent = [\n",
       "    \".vega-embed .error p {\",\n",
       "    \"  color: firebrick;\",\n",
       "    \"  font-size: 14px;\",\n",
       "    \"}\",\n",
       "  ].join(\"\\\\n\");\n",
       "\n",
       "  // element is a jQuery wrapped DOM element inside the output area\n",
       "  // see http://ipython.readthedocs.io/en/stable/api/generated/\\\n",
       "  // IPython.display.html#IPython.display.Javascript.__init__\n",
       "  element[0].appendChild(target);\n",
       "  element[0].appendChild(style);\n",
       "\n",
       "  vega.render(\"#\" + id, spec, type, opt, output_area);\n",
       "}, function (err) {\n",
       "  if (err.requireType !== \"scripterror\") {\n",
       "    throw(err);\n",
       "  }\n",
       "});\n"
      ],
      "text/plain": [
       "<vega.vegalite.VegaLite at 0x1a1ce8e940>"
      ]
     },
     "metadata": {
      "jupyter-vega": "#b2631b1b-d9d1-4148-a800-57b0a8148f26"
     },
     "output_type": "display_data"
    },
    {
     "data": {
      "text/plain": []
     },
     "execution_count": 136,
     "metadata": {},
     "output_type": "execute_result"
    },
    {
     "data": {
      "image/png": "[encoded data removed]"
     },
     "metadata": {
      "jupyter-vega": "#b2631b1b-d9d1-4148-a800-57b0a8148f26"
     },
     "output_type": "display_data"
    }
   ],
   "source": [
    "results_DT = get_search_results(gs_pipe_DT)\n",
    "\n",
    "results_DT_10_features = results_DT[results_DT['rfi_fs__n_features_'] == 10.0]\n",
    "\n",
    "alt.Chart(results_DT_10_features, \n",
    "          title='DT Performance Comparison with 10 Features'\n",
    "         ).mark_line(point=True).encode(\n",
    "    alt.X('dt__min_samples_split', title='Min Samples for Split'),\n",
    "    alt.Y('mean_score', title='AUC Score', scale=alt.Scale(zero=False)),\n",
    "    alt.Color('dt__max_depth:N', title='Max Depth')\n",
    ")"
   ]
  },
  {
   "cell_type": "markdown",
   "metadata": {},
   "source": [
    "## Further Fine Tuning"
   ]
  },
  {
   "cell_type": "code",
   "execution_count": 137,
   "metadata": {},
   "outputs": [
    {
     "name": "stdout",
     "output_type": "stream",
     "text": [
      "Fitting 5 folds for each of 100 candidates, totalling 500 fits\n"
     ]
    },
    {
     "name": "stderr",
     "output_type": "stream",
     "text": [
      "[Parallel(n_jobs=-2)]: Using backend LokyBackend with 3 concurrent workers.\n",
      "[Parallel(n_jobs=-2)]: Done  82 tasks      | elapsed:    2.6s\n",
      "[Parallel(n_jobs=-2)]: Done 382 tasks      | elapsed:   12.2s\n",
      "[Parallel(n_jobs=-2)]: Done 500 out of 500 | elapsed:   15.8s finished\n"
     ]
    }
   ],
   "source": [
    "params_pipe_DT2 = {'rfi_fs__n_features_': [10],\n",
    "                   'dt__criterion' : ['gini', 'entropy'],\n",
    "                  'dt__max_depth': range(10, 20),\n",
    "                  'dt__min_samples_split': [5, 50, 100, 150, 200]}\n",
    "\n",
    "gs_pipe_DT2 = GridSearchCV(estimator=pipe_DT, \n",
    "                          param_grid=params_pipe_DT2, \n",
    "                          cv=cv_method,\n",
    "                          refit=True,\n",
    "                          n_jobs=-2,\n",
    "                          scoring='roc_auc',\n",
    "                          verbose=1) \n",
    "\n",
    "gs_pipe_DT2.fit(X_train, y_train);"
   ]
  },
  {
   "cell_type": "code",
   "execution_count": 138,
   "metadata": {},
   "outputs": [
    {
     "data": {
      "text/plain": [
       "{'dt__criterion': 'entropy',\n",
       " 'dt__max_depth': 10,\n",
       " 'dt__min_samples_split': 50,\n",
       " 'rfi_fs__n_features_': 10}"
      ]
     },
     "execution_count": 138,
     "metadata": {},
     "output_type": "execute_result"
    }
   ],
   "source": [
    "gs_pipe_DT2.best_params_"
   ]
  },
  {
   "cell_type": "code",
   "execution_count": 139,
   "metadata": {},
   "outputs": [
    {
     "data": {
      "text/plain": [
       "0.8147721106890939"
      ]
     },
     "execution_count": 139,
     "metadata": {},
     "output_type": "execute_result"
    }
   ],
   "source": [
    "gs_pipe_DT2.best_score_"
   ]
  },
  {
   "cell_type": "markdown",
   "metadata": {},
   "source": [
    "As expected above we see that the scores have improved after the further tuning the model. We also see better results below in the new search space."
   ]
  },
  {
   "cell_type": "code",
   "execution_count": 140,
   "metadata": {},
   "outputs": [
    {
     "data": {
      "text/html": [
       "<div>\n",
       "<style scoped>\n",
       "    .dataframe tbody tr th:only-of-type {\n",
       "        vertical-align: middle;\n",
       "    }\n",
       "\n",
       "    .dataframe tbody tr th {\n",
       "        vertical-align: top;\n",
       "    }\n",
       "\n",
       "    .dataframe thead th {\n",
       "        text-align: right;\n",
       "    }\n",
       "</style>\n",
       "<table border=\"1\" class=\"dataframe\">\n",
       "  <thead>\n",
       "    <tr style=\"text-align: right;\">\n",
       "      <th></th>\n",
       "      <th>mean_score</th>\n",
       "      <th>std_score</th>\n",
       "      <th>max_score</th>\n",
       "      <th>min_score</th>\n",
       "      <th>dt__criterion</th>\n",
       "      <th>dt__max_depth</th>\n",
       "      <th>dt__min_samples_split</th>\n",
       "      <th>rfi_fs__n_features_</th>\n",
       "    </tr>\n",
       "  </thead>\n",
       "  <tbody>\n",
       "    <tr>\n",
       "      <th>81</th>\n",
       "      <td>0.815412</td>\n",
       "      <td>0.0436776</td>\n",
       "      <td>0.844875</td>\n",
       "      <td>0.72875</td>\n",
       "      <td>entropy</td>\n",
       "      <td>16</td>\n",
       "      <td>50</td>\n",
       "      <td>10</td>\n",
       "    </tr>\n",
       "    <tr>\n",
       "      <th>51</th>\n",
       "      <td>0.815412</td>\n",
       "      <td>0.0436776</td>\n",
       "      <td>0.844875</td>\n",
       "      <td>0.72875</td>\n",
       "      <td>entropy</td>\n",
       "      <td>10</td>\n",
       "      <td>50</td>\n",
       "      <td>10</td>\n",
       "    </tr>\n",
       "    <tr>\n",
       "      <th>76</th>\n",
       "      <td>0.815412</td>\n",
       "      <td>0.0436776</td>\n",
       "      <td>0.844875</td>\n",
       "      <td>0.72875</td>\n",
       "      <td>entropy</td>\n",
       "      <td>15</td>\n",
       "      <td>50</td>\n",
       "      <td>10</td>\n",
       "    </tr>\n",
       "    <tr>\n",
       "      <th>56</th>\n",
       "      <td>0.815412</td>\n",
       "      <td>0.0436776</td>\n",
       "      <td>0.844875</td>\n",
       "      <td>0.72875</td>\n",
       "      <td>entropy</td>\n",
       "      <td>11</td>\n",
       "      <td>50</td>\n",
       "      <td>10</td>\n",
       "    </tr>\n",
       "    <tr>\n",
       "      <th>41</th>\n",
       "      <td>0.813277</td>\n",
       "      <td>0.044833</td>\n",
       "      <td>0.844875</td>\n",
       "      <td>0.725</td>\n",
       "      <td>gini</td>\n",
       "      <td>18</td>\n",
       "      <td>50</td>\n",
       "      <td>10</td>\n",
       "    </tr>\n",
       "  </tbody>\n",
       "</table>\n",
       "</div>"
      ],
      "text/plain": [
       "   mean_score  std_score max_score min_score dt__criterion dt__max_depth  \\\n",
       "81   0.815412  0.0436776  0.844875   0.72875       entropy            16   \n",
       "51   0.815412  0.0436776  0.844875   0.72875       entropy            10   \n",
       "76   0.815412  0.0436776  0.844875   0.72875       entropy            15   \n",
       "56   0.815412  0.0436776  0.844875   0.72875       entropy            11   \n",
       "41   0.813277   0.044833  0.844875     0.725          gini            18   \n",
       "\n",
       "   dt__min_samples_split rfi_fs__n_features_  \n",
       "81                    50                  10  \n",
       "51                    50                  10  \n",
       "76                    50                  10  \n",
       "56                    50                  10  \n",
       "41                    50                  10  "
      ]
     },
     "execution_count": 140,
     "metadata": {},
     "output_type": "execute_result"
    }
   ],
   "source": [
    "results_DT = get_search_results(gs_pipe_DT2)\n",
    "results_DT.head()"
   ]
  },
  {
   "cell_type": "code",
   "execution_count": 141,
   "metadata": {},
   "outputs": [
    {
     "data": {
      "application/javascript": [
       "var spec = {\"config\": {\"view\": {\"width\": 400, \"height\": 300}, \"mark\": {\"tooltip\": null}}, \"data\": {\"name\": \"data-6cf14b55938bebe69275490580f9467c\"}, \"mark\": {\"type\": \"line\", \"point\": true}, \"encoding\": {\"color\": {\"type\": \"nominal\", \"field\": \"dt__max_depth\", \"title\": \"Max Depth\"}, \"x\": {\"type\": \"quantitative\", \"field\": \"dt__min_samples_split\", \"title\": \"Min Samples for Split\"}, \"y\": {\"type\": \"quantitative\", \"field\": \"mean_score\", \"scale\": {\"zero\": false}, \"title\": \"AUC Score\"}}, \"title\": \"DT Performance Comparison with 10 Features - Extended\", \"$schema\": \"https://vega.github.io/schema/vega-lite/v3.3.0.json\", \"datasets\": {\"data-6cf14b55938bebe69275490580f9467c\": [{\"mean_score\": 0.815412049861496, \"std_score\": 0.04367762702083065, \"max_score\": 0.8448753462603878, \"min_score\": 0.72875, \"dt__criterion\": \"entropy\", \"dt__max_depth\": 16, \"dt__min_samples_split\": 50, \"rfi_fs__n_features_\": 10}, {\"mean_score\": 0.815412049861496, \"std_score\": 0.04367762702083065, \"max_score\": 0.8448753462603878, \"min_score\": 0.72875, \"dt__criterion\": \"entropy\", \"dt__max_depth\": 10, \"dt__min_samples_split\": 50, \"rfi_fs__n_features_\": 10}, {\"mean_score\": 0.815412049861496, \"std_score\": 0.04367762702083065, \"max_score\": 0.8448753462603878, \"min_score\": 0.72875, \"dt__criterion\": \"entropy\", \"dt__max_depth\": 15, \"dt__min_samples_split\": 50, \"rfi_fs__n_features_\": 10}, {\"mean_score\": 0.815412049861496, \"std_score\": 0.04367762702083065, \"max_score\": 0.8448753462603878, \"min_score\": 0.72875, \"dt__criterion\": \"entropy\", \"dt__max_depth\": 11, \"dt__min_samples_split\": 50, \"rfi_fs__n_features_\": 10}, {\"mean_score\": 0.8132770083102493, \"std_score\": 0.044833005229416356, \"max_score\": 0.8448753462603878, \"min_score\": 0.7250000000000001, \"dt__criterion\": \"gini\", \"dt__max_depth\": 18, \"dt__min_samples_split\": 50, \"rfi_fs__n_features_\": 10}, {\"mean_score\": 0.8132770083102493, \"std_score\": 0.044833005229416356, \"max_score\": 0.8448753462603878, \"min_score\": 0.7250000000000001, \"dt__criterion\": \"gini\", \"dt__max_depth\": 10, \"dt__min_samples_split\": 50, \"rfi_fs__n_features_\": 10}, {\"mean_score\": 0.8093178670360113, \"std_score\": 0.041196867958862377, \"max_score\": 0.8400000000000001, \"min_score\": 0.72875, \"dt__criterion\": \"entropy\", \"dt__max_depth\": 19, \"dt__min_samples_split\": 50, \"rfi_fs__n_features_\": 10}, {\"mean_score\": 0.8093178670360113, \"std_score\": 0.04260694403144389, \"max_score\": 0.8448753462603878, \"min_score\": 0.72875, \"dt__criterion\": \"entropy\", \"dt__max_depth\": 13, \"dt__min_samples_split\": 50, \"rfi_fs__n_features_\": 10}, {\"mean_score\": 0.8093178670360113, \"std_score\": 0.04260694403144389, \"max_score\": 0.8448753462603878, \"min_score\": 0.72875, \"dt__criterion\": \"entropy\", \"dt__max_depth\": 12, \"dt__min_samples_split\": 50, \"rfi_fs__n_features_\": 10}, {\"mean_score\": 0.8093178670360113, \"std_score\": 0.041196867958862377, \"max_score\": 0.8400000000000001, \"min_score\": 0.72875, \"dt__criterion\": \"entropy\", \"dt__max_depth\": 17, \"dt__min_samples_split\": 50, \"rfi_fs__n_features_\": 10}, {\"mean_score\": 0.8071828254847645, \"std_score\": 0.043492439208695395, \"max_score\": 0.8448753462603878, \"min_score\": 0.7250000000000001, \"dt__criterion\": \"gini\", \"dt__max_depth\": 13, \"dt__min_samples_split\": 50, \"rfi_fs__n_features_\": 10}, {\"mean_score\": 0.8071828254847645, \"std_score\": 0.043492439208695395, \"max_score\": 0.8448753462603878, \"min_score\": 0.7250000000000001, \"dt__criterion\": \"gini\", \"dt__max_depth\": 15, \"dt__min_samples_split\": 50, \"rfi_fs__n_features_\": 10}, {\"mean_score\": 0.8071828254847645, \"std_score\": 0.042112023440383554, \"max_score\": 0.8400000000000001, \"min_score\": 0.7250000000000001, \"dt__criterion\": \"gini\", \"dt__max_depth\": 16, \"dt__min_samples_split\": 50, \"rfi_fs__n_features_\": 10}, {\"mean_score\": 0.8071828254847645, \"std_score\": 0.043492439208695395, \"max_score\": 0.8448753462603878, \"min_score\": 0.7250000000000001, \"dt__criterion\": \"gini\", \"dt__max_depth\": 12, \"dt__min_samples_split\": 50, \"rfi_fs__n_features_\": 10}, {\"mean_score\": 0.8071828254847645, \"std_score\": 0.042112023440383554, \"max_score\": 0.8400000000000001, \"min_score\": 0.7250000000000001, \"dt__criterion\": \"gini\", \"dt__max_depth\": 11, \"dt__min_samples_split\": 50, \"rfi_fs__n_features_\": 10}, {\"mean_score\": 0.8071828254847645, \"std_score\": 0.043492439208695395, \"max_score\": 0.8448753462603878, \"min_score\": 0.7250000000000001, \"dt__criterion\": \"gini\", \"dt__max_depth\": 19, \"dt__min_samples_split\": 50, \"rfi_fs__n_features_\": 10}, {\"mean_score\": 0.8032236842105265, \"std_score\": 0.03912186573422682, \"max_score\": 0.8400000000000001, \"min_score\": 0.72875, \"dt__criterion\": \"entropy\", \"dt__max_depth\": 18, \"dt__min_samples_split\": 50, \"rfi_fs__n_features_\": 10}, {\"mean_score\": 0.8032236842105265, \"std_score\": 0.03912186573422682, \"max_score\": 0.8400000000000001, \"min_score\": 0.72875, \"dt__criterion\": \"entropy\", \"dt__max_depth\": 14, \"dt__min_samples_split\": 50, \"rfi_fs__n_features_\": 10}, {\"mean_score\": 0.8010886426592798, \"std_score\": 0.03975849972073565, \"max_score\": 0.8400000000000001, \"min_score\": 0.7250000000000001, \"dt__criterion\": \"gini\", \"dt__max_depth\": 14, \"dt__min_samples_split\": 50, \"rfi_fs__n_features_\": 10}, {\"mean_score\": 0.8010886426592798, \"std_score\": 0.03975849972073565, \"max_score\": 0.8400000000000001, \"min_score\": 0.7250000000000001, \"dt__criterion\": \"gini\", \"dt__max_depth\": 17, \"dt__min_samples_split\": 50, \"rfi_fs__n_features_\": 10}, {\"mean_score\": 0.7775754847645429, \"std_score\": 0.057038402581239676, \"max_score\": 0.8448753462603877, \"min_score\": 0.7050000000000001, \"dt__criterion\": \"gini\", \"dt__max_depth\": 14, \"dt__min_samples_split\": 5, \"rfi_fs__n_features_\": 10}, {\"mean_score\": 0.7696648199445983, \"std_score\": 0.03870084594503045, \"max_score\": 0.8074999999999999, \"min_score\": 0.7105263157894737, \"dt__criterion\": \"entropy\", \"dt__max_depth\": 17, \"dt__min_samples_split\": 5, \"rfi_fs__n_features_\": 10}, {\"mean_score\": 0.7677458448753463, \"std_score\": 0.030784900464474563, \"max_score\": 0.8024999999999999, \"min_score\": 0.72875, \"dt__criterion\": \"entropy\", \"dt__max_depth\": 16, \"dt__min_samples_split\": 5, \"rfi_fs__n_features_\": 10}, {\"mean_score\": 0.7643137119113573, \"std_score\": 0.049131420561268874, \"max_score\": 0.8102493074792244, \"min_score\": 0.685595567867036, \"dt__criterion\": \"entropy\", \"dt__max_depth\": 14, \"dt__min_samples_split\": 5, \"rfi_fs__n_features_\": 10}, {\"mean_score\": 0.7622250692520774, \"std_score\": 0.05386939475371794, \"max_score\": 0.8448753462603877, \"min_score\": 0.7008310249307479, \"dt__criterion\": \"gini\", \"dt__max_depth\": 12, \"dt__min_samples_split\": 5, \"rfi_fs__n_features_\": 10}, {\"mean_score\": 0.761069944598338, \"std_score\": 0.04528225360237622, \"max_score\": 0.8310249307479224, \"min_score\": 0.703601108033241, \"dt__criterion\": \"entropy\", \"dt__max_depth\": 10, \"dt__min_samples_split\": 5, \"rfi_fs__n_features_\": 10}, {\"mean_score\": 0.759171052631579, \"std_score\": 0.07306900611911946, \"max_score\": 0.8573407202216067, \"min_score\": 0.6578947368421053, \"dt__criterion\": \"gini\", \"dt__max_depth\": 15, \"dt__min_samples_split\": 5, \"rfi_fs__n_features_\": 10}, {\"mean_score\": 0.7582659279778394, \"std_score\": 0.03620139609648875, \"max_score\": 0.8102493074792244, \"min_score\": 0.7200000000000002, \"dt__criterion\": \"entropy\", \"dt__max_depth\": 18, \"dt__min_samples_split\": 5, \"rfi_fs__n_features_\": 10}, {\"mean_score\": 0.7577929362880885, \"std_score\": 0.06406876058324194, \"max_score\": 0.8531855955678669, \"min_score\": 0.6703601108033241, \"dt__criterion\": \"gini\", \"dt__max_depth\": 11, \"dt__min_samples_split\": 5, \"rfi_fs__n_features_\": 10}, {\"mean_score\": 0.7575429362880887, \"std_score\": 0.035869859039974895, \"max_score\": 0.8102493074792244, \"min_score\": 0.7100000000000002, \"dt__criterion\": \"entropy\", \"dt__max_depth\": 19, \"dt__min_samples_split\": 5, \"rfi_fs__n_features_\": 10}, {\"mean_score\": 0.7562590027700831, \"std_score\": 0.04998101214610456, \"max_score\": 0.817174515235457, \"min_score\": 0.7008310249307479, \"dt__criterion\": \"gini\", \"dt__max_depth\": 17, \"dt__min_samples_split\": 5, \"rfi_fs__n_features_\": 10}, {\"mean_score\": 0.7547590027700831, \"std_score\": 0.04137825725818907, \"max_score\": 0.817174515235457, \"min_score\": 0.7050000000000001, \"dt__criterion\": \"gini\", \"dt__max_depth\": 16, \"dt__min_samples_split\": 5, \"rfi_fs__n_features_\": 10}, {\"mean_score\": 0.7543268698060942, \"std_score\": 0.04036158194350245, \"max_score\": 0.8102493074792244, \"min_score\": 0.7100000000000002, \"dt__criterion\": \"entropy\", \"dt__max_depth\": 15, \"dt__min_samples_split\": 5, \"rfi_fs__n_features_\": 10}, {\"mean_score\": 0.7521717451523546, \"std_score\": 0.046914445386936926, \"max_score\": 0.8130193905817175, \"min_score\": 0.6883656509695291, \"dt__criterion\": \"entropy\", \"dt__max_depth\": 11, \"dt__min_samples_split\": 5, \"rfi_fs__n_features_\": 10}, {\"mean_score\": 0.7498414127423823, \"std_score\": 0.0641540450627759, \"max_score\": 0.7991689750692521, \"min_score\": 0.6371191135734072, \"dt__criterion\": \"gini\", \"dt__max_depth\": 13, \"dt__min_samples_split\": 5, \"rfi_fs__n_features_\": 10}, {\"mean_score\": 0.7479085872576177, \"std_score\": 0.04206304013575762, \"max_score\": 0.8130193905817175, \"min_score\": 0.6883656509695291, \"dt__criterion\": \"entropy\", \"dt__max_depth\": 12, \"dt__min_samples_split\": 5, \"rfi_fs__n_features_\": 10}, {\"mean_score\": 0.7458206371191137, \"std_score\": 0.03749657394385761, \"max_score\": 0.7894736842105263, \"min_score\": 0.6980609418282548, \"dt__criterion\": \"entropy\", \"dt__max_depth\": 13, \"dt__min_samples_split\": 5, \"rfi_fs__n_features_\": 10}, {\"mean_score\": 0.7451925207756233, \"std_score\": 0.07199793902712914, \"max_score\": 0.8310249307479225, \"min_score\": 0.6232686980609419, \"dt__criterion\": \"gini\", \"dt__max_depth\": 10, \"dt__min_samples_split\": 5, \"rfi_fs__n_features_\": 10}, {\"mean_score\": 0.744887811634349, \"std_score\": 0.039906693031107304, \"max_score\": 0.817174515235457, \"min_score\": 0.7050000000000001, \"dt__criterion\": \"gini\", \"dt__max_depth\": 18, \"dt__min_samples_split\": 5, \"rfi_fs__n_features_\": 10}, {\"mean_score\": 0.744367728531856, \"std_score\": 0.04313038869630452, \"max_score\": 0.8074792243767313, \"min_score\": 0.69875, \"dt__criterion\": \"gini\", \"dt__max_depth\": 19, \"dt__min_samples_split\": 5, \"rfi_fs__n_features_\": 10}, {\"mean_score\": 0.726842105263158, \"std_score\": 0.05120162739795921, \"max_score\": 0.8, \"min_score\": 0.65, \"dt__criterion\": \"gini\", \"dt__max_depth\": 17, \"dt__min_samples_split\": 150, \"rfi_fs__n_features_\": 10}, {\"mean_score\": 0.726842105263158, \"std_score\": 0.05120162739795921, \"max_score\": 0.8, \"min_score\": 0.65, \"dt__criterion\": \"entropy\", \"dt__max_depth\": 17, \"dt__min_samples_split\": 150, \"rfi_fs__n_features_\": 10}, {\"mean_score\": 0.726842105263158, \"std_score\": 0.05120162739795921, \"max_score\": 0.8, \"min_score\": 0.65, \"dt__criterion\": \"gini\", \"dt__max_depth\": 14, \"dt__min_samples_split\": 150, \"rfi_fs__n_features_\": 10}, {\"mean_score\": 0.726842105263158, \"std_score\": 0.05120162739795921, \"max_score\": 0.8, \"min_score\": 0.65, \"dt__criterion\": \"gini\", \"dt__max_depth\": 14, \"dt__min_samples_split\": 100, \"rfi_fs__n_features_\": 10}, {\"mean_score\": 0.726842105263158, \"std_score\": 0.05120162739795921, \"max_score\": 0.8, \"min_score\": 0.65, \"dt__criterion\": \"entropy\", \"dt__max_depth\": 13, \"dt__min_samples_split\": 100, \"rfi_fs__n_features_\": 10}, {\"mean_score\": 0.726842105263158, \"std_score\": 0.05120162739795921, \"max_score\": 0.8, \"min_score\": 0.65, \"dt__criterion\": \"entropy\", \"dt__max_depth\": 13, \"dt__min_samples_split\": 150, \"rfi_fs__n_features_\": 10}, {\"mean_score\": 0.726842105263158, \"std_score\": 0.05120162739795921, \"max_score\": 0.8, \"min_score\": 0.65, \"dt__criterion\": \"gini\", \"dt__max_depth\": 11, \"dt__min_samples_split\": 100, \"rfi_fs__n_features_\": 10}, {\"mean_score\": 0.726842105263158, \"std_score\": 0.05120162739795921, \"max_score\": 0.8, \"min_score\": 0.65, \"dt__criterion\": \"gini\", \"dt__max_depth\": 13, \"dt__min_samples_split\": 150, \"rfi_fs__n_features_\": 10}, {\"mean_score\": 0.726842105263158, \"std_score\": 0.05120162739795921, \"max_score\": 0.8, \"min_score\": 0.65, \"dt__criterion\": \"entropy\", \"dt__max_depth\": 14, \"dt__min_samples_split\": 100, \"rfi_fs__n_features_\": 10}, {\"mean_score\": 0.726842105263158, \"std_score\": 0.05120162739795921, \"max_score\": 0.8, \"min_score\": 0.65, \"dt__criterion\": \"entropy\", \"dt__max_depth\": 14, \"dt__min_samples_split\": 150, \"rfi_fs__n_features_\": 10}, {\"mean_score\": 0.726842105263158, \"std_score\": 0.05120162739795921, \"max_score\": 0.8, \"min_score\": 0.65, \"dt__criterion\": \"gini\", \"dt__max_depth\": 13, \"dt__min_samples_split\": 100, \"rfi_fs__n_features_\": 10}, {\"mean_score\": 0.726842105263158, \"std_score\": 0.05120162739795921, \"max_score\": 0.8, \"min_score\": 0.65, \"dt__criterion\": \"entropy\", \"dt__max_depth\": 12, \"dt__min_samples_split\": 100, \"rfi_fs__n_features_\": 10}, {\"mean_score\": 0.726842105263158, \"std_score\": 0.05120162739795921, \"max_score\": 0.8, \"min_score\": 0.65, \"dt__criterion\": \"entropy\", \"dt__max_depth\": 17, \"dt__min_samples_split\": 100, \"rfi_fs__n_features_\": 10}, {\"mean_score\": 0.726842105263158, \"std_score\": 0.05120162739795921, \"max_score\": 0.8, \"min_score\": 0.65, \"dt__criterion\": \"entropy\", \"dt__max_depth\": 15, \"dt__min_samples_split\": 100, \"rfi_fs__n_features_\": 10}, {\"mean_score\": 0.726842105263158, \"std_score\": 0.05120162739795921, \"max_score\": 0.8, \"min_score\": 0.65, \"dt__criterion\": \"entropy\", \"dt__max_depth\": 15, \"dt__min_samples_split\": 150, \"rfi_fs__n_features_\": 10}, {\"mean_score\": 0.726842105263158, \"std_score\": 0.05120162739795921, \"max_score\": 0.8, \"min_score\": 0.65, \"dt__criterion\": \"gini\", \"dt__max_depth\": 11, \"dt__min_samples_split\": 150, \"rfi_fs__n_features_\": 10}, {\"mean_score\": 0.726842105263158, \"std_score\": 0.05120162739795921, \"max_score\": 0.8, \"min_score\": 0.65, \"dt__criterion\": \"gini\", \"dt__max_depth\": 12, \"dt__min_samples_split\": 150, \"rfi_fs__n_features_\": 10}, {\"mean_score\": 0.726842105263158, \"std_score\": 0.05120162739795921, \"max_score\": 0.8, \"min_score\": 0.65, \"dt__criterion\": \"gini\", \"dt__max_depth\": 12, \"dt__min_samples_split\": 100, \"rfi_fs__n_features_\": 10}, {\"mean_score\": 0.726842105263158, \"std_score\": 0.05120162739795921, \"max_score\": 0.8, \"min_score\": 0.65, \"dt__criterion\": \"entropy\", \"dt__max_depth\": 16, \"dt__min_samples_split\": 100, \"rfi_fs__n_features_\": 10}, {\"mean_score\": 0.726842105263158, \"std_score\": 0.05120162739795921, \"max_score\": 0.8, \"min_score\": 0.65, \"dt__criterion\": \"entropy\", \"dt__max_depth\": 12, \"dt__min_samples_split\": 150, \"rfi_fs__n_features_\": 10}, {\"mean_score\": 0.726842105263158, \"std_score\": 0.05120162739795921, \"max_score\": 0.8, \"min_score\": 0.65, \"dt__criterion\": \"entropy\", \"dt__max_depth\": 18, \"dt__min_samples_split\": 100, \"rfi_fs__n_features_\": 10}, {\"mean_score\": 0.726842105263158, \"std_score\": 0.05120162739795921, \"max_score\": 0.8, \"min_score\": 0.65, \"dt__criterion\": \"entropy\", \"dt__max_depth\": 10, \"dt__min_samples_split\": 100, \"rfi_fs__n_features_\": 10}, {\"mean_score\": 0.726842105263158, \"std_score\": 0.05120162739795921, \"max_score\": 0.8, \"min_score\": 0.65, \"dt__criterion\": \"gini\", \"dt__max_depth\": 16, \"dt__min_samples_split\": 100, \"rfi_fs__n_features_\": 10}, {\"mean_score\": 0.726842105263158, \"std_score\": 0.05120162739795921, \"max_score\": 0.8, \"min_score\": 0.65, \"dt__criterion\": \"gini\", \"dt__max_depth\": 17, \"dt__min_samples_split\": 100, \"rfi_fs__n_features_\": 10}, {\"mean_score\": 0.726842105263158, \"std_score\": 0.05120162739795921, \"max_score\": 0.8, \"min_score\": 0.65, \"dt__criterion\": \"gini\", \"dt__max_depth\": 18, \"dt__min_samples_split\": 100, \"rfi_fs__n_features_\": 10}, {\"mean_score\": 0.726842105263158, \"std_score\": 0.05120162739795921, \"max_score\": 0.8, \"min_score\": 0.65, \"dt__criterion\": \"gini\", \"dt__max_depth\": 18, \"dt__min_samples_split\": 150, \"rfi_fs__n_features_\": 10}, {\"mean_score\": 0.726842105263158, \"std_score\": 0.05120162739795921, \"max_score\": 0.8, \"min_score\": 0.65, \"dt__criterion\": \"entropy\", \"dt__max_depth\": 19, \"dt__min_samples_split\": 150, \"rfi_fs__n_features_\": 10}, {\"mean_score\": 0.726842105263158, \"std_score\": 0.05120162739795921, \"max_score\": 0.8, \"min_score\": 0.65, \"dt__criterion\": \"entropy\", \"dt__max_depth\": 19, \"dt__min_samples_split\": 100, \"rfi_fs__n_features_\": 10}, {\"mean_score\": 0.726842105263158, \"std_score\": 0.05120162739795921, \"max_score\": 0.8, \"min_score\": 0.65, \"dt__criterion\": \"gini\", \"dt__max_depth\": 19, \"dt__min_samples_split\": 100, \"rfi_fs__n_features_\": 10}, {\"mean_score\": 0.726842105263158, \"std_score\": 0.05120162739795921, \"max_score\": 0.8, \"min_score\": 0.65, \"dt__criterion\": \"gini\", \"dt__max_depth\": 19, \"dt__min_samples_split\": 150, \"rfi_fs__n_features_\": 10}, {\"mean_score\": 0.726842105263158, \"std_score\": 0.05120162739795921, \"max_score\": 0.8, \"min_score\": 0.65, \"dt__criterion\": \"gini\", \"dt__max_depth\": 10, \"dt__min_samples_split\": 100, \"rfi_fs__n_features_\": 10}, {\"mean_score\": 0.726842105263158, \"std_score\": 0.05120162739795921, \"max_score\": 0.8, \"min_score\": 0.65, \"dt__criterion\": \"gini\", \"dt__max_depth\": 16, \"dt__min_samples_split\": 150, \"rfi_fs__n_features_\": 10}, {\"mean_score\": 0.726842105263158, \"std_score\": 0.05120162739795921, \"max_score\": 0.8, \"min_score\": 0.65, \"dt__criterion\": \"entropy\", \"dt__max_depth\": 16, \"dt__min_samples_split\": 150, \"rfi_fs__n_features_\": 10}, {\"mean_score\": 0.726842105263158, \"std_score\": 0.05120162739795921, \"max_score\": 0.8, \"min_score\": 0.65, \"dt__criterion\": \"gini\", \"dt__max_depth\": 15, \"dt__min_samples_split\": 100, \"rfi_fs__n_features_\": 10}, {\"mean_score\": 0.726842105263158, \"std_score\": 0.05120162739795921, \"max_score\": 0.8, \"min_score\": 0.65, \"dt__criterion\": \"entropy\", \"dt__max_depth\": 10, \"dt__min_samples_split\": 150, \"rfi_fs__n_features_\": 10}, {\"mean_score\": 0.726842105263158, \"std_score\": 0.05120162739795921, \"max_score\": 0.8, \"min_score\": 0.65, \"dt__criterion\": \"gini\", \"dt__max_depth\": 10, \"dt__min_samples_split\": 150, \"rfi_fs__n_features_\": 10}, {\"mean_score\": 0.726842105263158, \"std_score\": 0.05120162739795921, \"max_score\": 0.8, \"min_score\": 0.65, \"dt__criterion\": \"gini\", \"dt__max_depth\": 15, \"dt__min_samples_split\": 150, \"rfi_fs__n_features_\": 10}, {\"mean_score\": 0.726842105263158, \"std_score\": 0.05120162739795921, \"max_score\": 0.8, \"min_score\": 0.65, \"dt__criterion\": \"entropy\", \"dt__max_depth\": 11, \"dt__min_samples_split\": 100, \"rfi_fs__n_features_\": 10}, {\"mean_score\": 0.726842105263158, \"std_score\": 0.05120162739795921, \"max_score\": 0.8, \"min_score\": 0.65, \"dt__criterion\": \"entropy\", \"dt__max_depth\": 11, \"dt__min_samples_split\": 150, \"rfi_fs__n_features_\": 10}, {\"mean_score\": 0.726842105263158, \"std_score\": 0.05120162739795921, \"max_score\": 0.8, \"min_score\": 0.65, \"dt__criterion\": \"entropy\", \"dt__max_depth\": 18, \"dt__min_samples_split\": 150, \"rfi_fs__n_features_\": 10}, {\"mean_score\": 0.5, \"std_score\": 0.0, \"max_score\": 0.5, \"min_score\": 0.5, \"dt__criterion\": \"entropy\", \"dt__max_depth\": 17, \"dt__min_samples_split\": 200, \"rfi_fs__n_features_\": 10}, {\"mean_score\": 0.5, \"std_score\": 0.0, \"max_score\": 0.5, \"min_score\": 0.5, \"dt__criterion\": \"entropy\", \"dt__max_depth\": 18, \"dt__min_samples_split\": 200, \"rfi_fs__n_features_\": 10}, {\"mean_score\": 0.5, \"std_score\": 0.0, \"max_score\": 0.5, \"min_score\": 0.5, \"dt__criterion\": \"gini\", \"dt__max_depth\": 10, \"dt__min_samples_split\": 200, \"rfi_fs__n_features_\": 10}, {\"mean_score\": 0.5, \"std_score\": 0.0, \"max_score\": 0.5, \"min_score\": 0.5, \"dt__criterion\": \"gini\", \"dt__max_depth\": 11, \"dt__min_samples_split\": 200, \"rfi_fs__n_features_\": 10}, {\"mean_score\": 0.5, \"std_score\": 0.0, \"max_score\": 0.5, \"min_score\": 0.5, \"dt__criterion\": \"entropy\", \"dt__max_depth\": 13, \"dt__min_samples_split\": 200, \"rfi_fs__n_features_\": 10}, {\"mean_score\": 0.5, \"std_score\": 0.0, \"max_score\": 0.5, \"min_score\": 0.5, \"dt__criterion\": \"entropy\", \"dt__max_depth\": 16, \"dt__min_samples_split\": 200, \"rfi_fs__n_features_\": 10}, {\"mean_score\": 0.5, \"std_score\": 0.0, \"max_score\": 0.5, \"min_score\": 0.5, \"dt__criterion\": \"entropy\", \"dt__max_depth\": 15, \"dt__min_samples_split\": 200, \"rfi_fs__n_features_\": 10}, {\"mean_score\": 0.5, \"std_score\": 0.0, \"max_score\": 0.5, \"min_score\": 0.5, \"dt__criterion\": \"gini\", \"dt__max_depth\": 12, \"dt__min_samples_split\": 200, \"rfi_fs__n_features_\": 10}, {\"mean_score\": 0.5, \"std_score\": 0.0, \"max_score\": 0.5, \"min_score\": 0.5, \"dt__criterion\": \"entropy\", \"dt__max_depth\": 14, \"dt__min_samples_split\": 200, \"rfi_fs__n_features_\": 10}, {\"mean_score\": 0.5, \"std_score\": 0.0, \"max_score\": 0.5, \"min_score\": 0.5, \"dt__criterion\": \"gini\", \"dt__max_depth\": 13, \"dt__min_samples_split\": 200, \"rfi_fs__n_features_\": 10}, {\"mean_score\": 0.5, \"std_score\": 0.0, \"max_score\": 0.5, \"min_score\": 0.5, \"dt__criterion\": \"gini\", \"dt__max_depth\": 17, \"dt__min_samples_split\": 200, \"rfi_fs__n_features_\": 10}, {\"mean_score\": 0.5, \"std_score\": 0.0, \"max_score\": 0.5, \"min_score\": 0.5, \"dt__criterion\": \"entropy\", \"dt__max_depth\": 12, \"dt__min_samples_split\": 200, \"rfi_fs__n_features_\": 10}, {\"mean_score\": 0.5, \"std_score\": 0.0, \"max_score\": 0.5, \"min_score\": 0.5, \"dt__criterion\": \"gini\", \"dt__max_depth\": 14, \"dt__min_samples_split\": 200, \"rfi_fs__n_features_\": 10}, {\"mean_score\": 0.5, \"std_score\": 0.0, \"max_score\": 0.5, \"min_score\": 0.5, \"dt__criterion\": \"entropy\", \"dt__max_depth\": 11, \"dt__min_samples_split\": 200, \"rfi_fs__n_features_\": 10}, {\"mean_score\": 0.5, \"std_score\": 0.0, \"max_score\": 0.5, \"min_score\": 0.5, \"dt__criterion\": \"gini\", \"dt__max_depth\": 15, \"dt__min_samples_split\": 200, \"rfi_fs__n_features_\": 10}, {\"mean_score\": 0.5, \"std_score\": 0.0, \"max_score\": 0.5, \"min_score\": 0.5, \"dt__criterion\": \"entropy\", \"dt__max_depth\": 10, \"dt__min_samples_split\": 200, \"rfi_fs__n_features_\": 10}, {\"mean_score\": 0.5, \"std_score\": 0.0, \"max_score\": 0.5, \"min_score\": 0.5, \"dt__criterion\": \"gini\", \"dt__max_depth\": 19, \"dt__min_samples_split\": 200, \"rfi_fs__n_features_\": 10}, {\"mean_score\": 0.5, \"std_score\": 0.0, \"max_score\": 0.5, \"min_score\": 0.5, \"dt__criterion\": \"gini\", \"dt__max_depth\": 16, \"dt__min_samples_split\": 200, \"rfi_fs__n_features_\": 10}, {\"mean_score\": 0.5, \"std_score\": 0.0, \"max_score\": 0.5, \"min_score\": 0.5, \"dt__criterion\": \"gini\", \"dt__max_depth\": 18, \"dt__min_samples_split\": 200, \"rfi_fs__n_features_\": 10}, {\"mean_score\": 0.5, \"std_score\": 0.0, \"max_score\": 0.5, \"min_score\": 0.5, \"dt__criterion\": \"entropy\", \"dt__max_depth\": 19, \"dt__min_samples_split\": 200, \"rfi_fs__n_features_\": 10}]}};\n",
       "var opt = {};\n",
       "var type = \"vega-lite\";\n",
       "var id = \"9596a5e1-c7dc-4c0c-82ec-a0ad03ed6172\";\n",
       "\n",
       "var output_area = this;\n",
       "\n",
       "require([\"nbextensions/jupyter-vega/index\"], function(vega) {\n",
       "  var target = document.createElement(\"div\");\n",
       "  target.id = id;\n",
       "  target.className = \"vega-embed\";\n",
       "\n",
       "  var style = document.createElement(\"style\");\n",
       "  style.textContent = [\n",
       "    \".vega-embed .error p {\",\n",
       "    \"  color: firebrick;\",\n",
       "    \"  font-size: 14px;\",\n",
       "    \"}\",\n",
       "  ].join(\"\\\\n\");\n",
       "\n",
       "  // element is a jQuery wrapped DOM element inside the output area\n",
       "  // see http://ipython.readthedocs.io/en/stable/api/generated/\\\n",
       "  // IPython.display.html#IPython.display.Javascript.__init__\n",
       "  element[0].appendChild(target);\n",
       "  element[0].appendChild(style);\n",
       "\n",
       "  vega.render(\"#\" + id, spec, type, opt, output_area);\n",
       "}, function (err) {\n",
       "  if (err.requireType !== \"scripterror\") {\n",
       "    throw(err);\n",
       "  }\n",
       "});\n"
      ],
      "text/plain": [
       "<vega.vegalite.VegaLite at 0x1a1cc12f60>"
      ]
     },
     "metadata": {
      "jupyter-vega": "#9596a5e1-c7dc-4c0c-82ec-a0ad03ed6172"
     },
     "output_type": "display_data"
    },
    {
     "data": {
      "text/plain": []
     },
     "execution_count": 141,
     "metadata": {},
     "output_type": "execute_result"
    },
    {
     "data": {
      "image/png": "[encoded data removed]"
     },
     "metadata": {
      "jupyter-vega": "#9596a5e1-c7dc-4c0c-82ec-a0ad03ed6172"
     },
     "output_type": "display_data"
    }
   ],
   "source": [
    "results_DT_10_features = results_DT[results_DT['rfi_fs__n_features_'] == 10.0]\n",
    "\n",
    "alt.Chart(results_DT_10_features, \n",
    "          title='DT Performance Comparison with 10 Features - Extended'\n",
    "         ).mark_line(point=True).encode(\n",
    "    alt.X('dt__min_samples_split', title='Min Samples for Split'),\n",
    "    alt.Y('mean_score', title='AUC Score', scale=alt.Scale(zero=False)),\n",
    "    alt.Color('dt__max_depth:N', title='Max Depth')\n",
    ")"
   ]
  },
  {
   "cell_type": "markdown",
   "metadata": {},
   "source": [
    "# Performance Comparison <a class=\"anchor\" id=\"5\"></a>\n",
    "\n",
    "We have optimized each one of the three classifiers using the training data. We now fit the optimized models on the test data in a cross-validated. And then applied the two-sided test for the null hypothesis that 2 related sample have identical average (expected) values. \n",
    "* KNN vs. NB,\n",
    "* KNN vs. DT, and\n",
    "* DT vs. NB."
   ]
  },
  {
   "cell_type": "code",
   "execution_count": 117,
   "metadata": {},
   "outputs": [
    {
     "data": {
      "text/plain": [
       "0.8699999999999999"
      ]
     },
     "execution_count": 117,
     "metadata": {},
     "output_type": "execute_result"
    }
   ],
   "source": [
    "from sklearn.model_selection import cross_val_score\n",
    "\n",
    "cv_method_ttest = StratifiedKFold(n_splits=10, random_state=111)\n",
    "\n",
    "cv_results_KNN = cross_val_score(estimator=gs_pipe_KNN.best_estimator_,\n",
    "                                 X=X_test,\n",
    "                                 y=y_test, \n",
    "                                 cv=cv_method_ttest, \n",
    "                                 n_jobs=-2,\n",
    "                                 scoring='roc_auc')\n",
    "cv_results_KNN.mean()"
   ]
  },
  {
   "cell_type": "code",
   "execution_count": 118,
   "metadata": {},
   "outputs": [
    {
     "data": {
      "text/plain": [
       "0.9175000000000001"
      ]
     },
     "execution_count": 118,
     "metadata": {},
     "output_type": "execute_result"
    }
   ],
   "source": [
    "X_test_transformed = PowerTransformer().fit_transform(X_test)\n",
    "\n",
    "cv_results_NB = cross_val_score(estimator=gs_pipe_NB.best_estimator_,\n",
    "                                X=X_test_transformed,\n",
    "                                y=y_test, \n",
    "                                cv=cv_method_ttest, \n",
    "                                n_jobs=-2,\n",
    "                                scoring='roc_auc')\n",
    "cv_results_NB.mean()"
   ]
  },
  {
   "cell_type": "code",
   "execution_count": 119,
   "metadata": {},
   "outputs": [],
   "source": [
    "# For the decision tree, use bestScore() function to determined the best parameter.\n",
    "def bestScore():\n",
    "    if (gs_pipe_DT2.best_score_ > gs_pipe_DT.best_score_):\n",
    "        return gs_pipe_DT2\n",
    "    else: \n",
    "        return gs_pipe_DT"
   ]
  },
  {
   "cell_type": "code",
   "execution_count": 120,
   "metadata": {},
   "outputs": [
    {
     "data": {
      "text/plain": [
       "0.792625"
      ]
     },
     "execution_count": 120,
     "metadata": {},
     "output_type": "execute_result"
    }
   ],
   "source": [
    "cv_results_DT = cross_val_score(estimator=bestScore().best_estimator_,\n",
    "                                X=X_test,\n",
    "                                y=y_test, \n",
    "                                cv=cv_method_ttest, \n",
    "                                n_jobs=-2,\n",
    "                                scoring='roc_auc')\n",
    "cv_results_DT.mean()"
   ]
  },
  {
   "cell_type": "markdown",
   "metadata": {},
   "source": [
    "Since we fixed the same random state to be same during cross-validation, all classifiers were fitted and then tested on exactly the same test data partitions.  Applied two-sided test 'stats.ttest_rel' function from the SciPy module to run the test data.  If we observe a large p-value, for example greater than 0.05 or 0.1 then we cannot reject the null hypothesis of identical average scores. If the p-value is smaller than the threshold, e.g. 1%, 5% or 10%, then we reject the null hypothesis of equal averages. Small p-values are associated with large t-statistics."
   ]
  },
  {
   "cell_type": "code",
   "execution_count": 122,
   "metadata": {},
   "outputs": [
    {
     "name": "stdout",
     "output_type": "stream",
     "text": [
      "T test Rel_Result for KNN and NB: Statistics=-2.396, p=0.040\n",
      "Equal averages (reject H0)\n"
     ]
    }
   ],
   "source": [
    "from scipy import stats\n",
    "\n",
    "stat, p = stats.ttest_rel(cv_results_KNN, cv_results_NB)\n",
    "print('T test Rel_Result for KNN and NB: Statistics=%.3f, p=%.3f' % (stat, p))\n",
    "# interpret\n",
    "alpha = 0.05\n",
    "if p > alpha:\n",
    "    print('Identical average scores (fail to reject H0)')\n",
    "else:\n",
    "    print('Equal averages (reject H0)')\n"
   ]
  },
  {
   "cell_type": "code",
   "execution_count": 123,
   "metadata": {},
   "outputs": [
    {
     "name": "stdout",
     "output_type": "stream",
     "text": [
      "T test Rel_Result for DT and KNN: Statistics=-1.450, p=0.181\n",
      "Identical average scores (fail to reject H0)\n"
     ]
    }
   ],
   "source": [
    "stat, p = stats.ttest_rel(cv_results_DT, cv_results_KNN)\n",
    "print('T test Rel_Result for DT and KNN: Statistics=%.3f, p=%.3f' % (stat, p))\n",
    "# interpret\n",
    "alpha = 0.05\n",
    "if p > alpha:\n",
    "    print('Identical average scores (fail to reject H0)')\n",
    "else:\n",
    "    print('Equal averages (reject H0)')"
   ]
  },
  {
   "cell_type": "code",
   "execution_count": 124,
   "metadata": {},
   "outputs": [
    {
     "name": "stdout",
     "output_type": "stream",
     "text": [
      "T test Rel_Result for DT and NB: Statistics=-2.061, p=0.069\n",
      "Identical average scores (fail to reject H0)\n"
     ]
    }
   ],
   "source": [
    "stat, p = stats.ttest_rel(cv_results_DT, cv_results_NB)\n",
    "print('T test Rel_Result for DT and NB: Statistics=%.3f, p=%.3f' % (stat, p))\n",
    "# interpret\n",
    "alpha = 0.05\n",
    "if p > alpha:\n",
    "    print('Identical average scores (fail to reject H0)')\n",
    "else:\n",
    "    print('Equal averages (reject H0)')"
   ]
  },
  {
   "cell_type": "markdown",
   "metadata": {},
   "source": [
    "From T test Rel_Result, the best model is NB. A p-value smaller than 0.05 indicates a statistically significant difference. Looking at these results, we conclude that at a 95% significance level, NB is statistically the best model in this competition (in terms of AUC) when compared on the test data.\n",
    "\n",
    "Consider the following metrics to evaluate models based on the test set:\n",
    " * Accuracy\n",
    " * Precision\n",
    " * Recall\n",
    " * F1 score\n",
    " * Confusion Matrix"
   ]
  },
  {
   "cell_type": "code",
   "execution_count": 126,
   "metadata": {},
   "outputs": [],
   "source": [
    "pred_KNN = gs_pipe_KNN.predict(X_test)"
   ]
  },
  {
   "cell_type": "code",
   "execution_count": 127,
   "metadata": {},
   "outputs": [],
   "source": [
    "Data_test_transformed = PowerTransformer().fit_transform(X_test)\n",
    "pred_NB = gs_pipe_NB.predict(X_test_transformed)"
   ]
  },
  {
   "cell_type": "code",
   "execution_count": 128,
   "metadata": {},
   "outputs": [],
   "source": [
    "pred_DT = bestScore().predict(X_test)"
   ]
  },
  {
   "cell_type": "code",
   "execution_count": 129,
   "metadata": {},
   "outputs": [
    {
     "name": "stdout",
     "output_type": "stream",
     "text": [
      "\n",
      "Classification report for K-Nearest Neighbor\n",
      "              precision    recall  f1-score   support\n",
      "\n",
      "           0       0.81      0.83      0.82        42\n",
      "           1       0.83      0.81      0.82        42\n",
      "\n",
      "    accuracy                           0.82        84\n",
      "   macro avg       0.82      0.82      0.82        84\n",
      "weighted avg       0.82      0.82      0.82        84\n",
      "\n",
      "\n",
      "Classification report for Naive Bayes\n",
      "              precision    recall  f1-score   support\n",
      "\n",
      "           0       0.84      0.90      0.87        42\n",
      "           1       0.90      0.83      0.86        42\n",
      "\n",
      "    accuracy                           0.87        84\n",
      "   macro avg       0.87      0.87      0.87        84\n",
      "weighted avg       0.87      0.87      0.87        84\n",
      "\n",
      "\n",
      "Classification report for Decision Tree\n",
      "              precision    recall  f1-score   support\n",
      "\n",
      "           0       0.79      0.81      0.80        42\n",
      "           1       0.80      0.79      0.80        42\n",
      "\n",
      "    accuracy                           0.80        84\n",
      "   macro avg       0.80      0.80      0.80        84\n",
      "weighted avg       0.80      0.80      0.80        84\n",
      "\n"
     ]
    }
   ],
   "source": [
    "from sklearn import metrics\n",
    "print(\"\\nClassification report for K-Nearest Neighbor\") \n",
    "print(metrics.classification_report(y_test, pred_KNN))\n",
    "print(\"\\nClassification report for Naive Bayes\") \n",
    "print(metrics.classification_report(y_test, pred_NB))\n",
    "print(\"\\nClassification report for Decision Tree\") \n",
    "print(metrics.classification_report(y_test, pred_DT))"
   ]
  },
  {
   "cell_type": "code",
   "execution_count": 130,
   "metadata": {},
   "outputs": [
    {
     "name": "stdout",
     "output_type": "stream",
     "text": [
      "\n",
      "Confusion matrix for K-Nearest Neighbor\n",
      "[[35  7]\n",
      " [ 8 34]]\n",
      "\n",
      "Confusion matrix for Naive Bayes\n",
      "[[38  4]\n",
      " [ 7 35]]\n",
      "\n",
      "Confusion matrix for Decision Tree\n",
      "[[34  8]\n",
      " [ 9 33]]\n"
     ]
    }
   ],
   "source": [
    "from sklearn import metrics\n",
    "print(\"\\nConfusion matrix for K-Nearest Neighbor\") \n",
    "print(metrics.confusion_matrix(y_test, pred_KNN))\n",
    "print(\"\\nConfusion matrix for Naive Bayes\") \n",
    "print(metrics.confusion_matrix(y_test, pred_NB))\n",
    "print(\"\\nConfusion matrix for Decision Tree\") \n",
    "print(metrics.confusion_matrix(y_test, pred_DT))"
   ]
  },
  {
   "cell_type": "code",
   "execution_count": 132,
   "metadata": {},
   "outputs": [
    {
     "name": "stdout",
     "output_type": "stream",
     "text": [
      "Accuracy of KNN:  0.8214285714285714\n",
      "Classification Error of KNN:  0.1785714285714286\n",
      "\n",
      "\n",
      "Accuracy of Naive Bayes:  0.8690476190476191\n",
      "Classification Error of Naive Bayes:  0.13095238095238093\n",
      "\n",
      "\n",
      "Accuracy of Decision Tree:  0.7976190476190477\n",
      "Classification Error of Decision Tree:  0.20238095238095233\n"
     ]
    }
   ],
   "source": [
    "# classification error\n",
    "print(\"Accuracy of KNN: \", metrics.accuracy_score(y_test, pred_KNN))\n",
    "print(\"Classification Error of KNN: \", 1 - metrics.accuracy_score(y_test, pred_KNN))\n",
    "\n",
    "print (\"\\n\")\n",
    "\n",
    "print(\"Accuracy of Naive Bayes: \", metrics.accuracy_score(y_test, pred_NB))\n",
    "print(\"Classification Error of Naive Bayes: \", 1 - metrics.accuracy_score(y_test, pred_NB))\n",
    "\n",
    "print (\"\\n\" )   \n",
    "      \n",
    "print(\"Accuracy of Decision Tree: \", metrics.accuracy_score(y_test, pred_DT))\n",
    "print(\"Classification Error of Decision Tree: \", 1 - metrics.accuracy_score(y_test, pred_DT))"
   ]
  },
  {
   "cell_type": "markdown",
   "metadata": {},
   "source": [
    "In the case of heart disease we know that accuracy and precision as the performance metric as it more about getting the right prediction. In this case NB would be the best model as it has the highest precision and accuracy and the least classification error rate. The confusion matrix is also in line with the classification report and the statistical report. "
   ]
  },
  {
   "cell_type": "markdown",
   "metadata": {},
   "source": [
    "# Limitations and Proposed Solutions <a class=\"anchor\" id=\"6\"></a> \n",
    "\n",
    "Our modeling strategy has a few flaws and limitations.\n",
    "First,In this project as we have only limited ourselves with three algorithms for supervised classification problem to find the best model for the prediction. \n",
    "\n",
    "Second, the dataset that we used for the study had very limited number of observation which is a setback as data is alwyas valuable, in the future we can run the analysis with more precision by involving more observation and rerunning our experiments.\n",
    "\n",
    "Lastly,the black-box approach involving raw predictive power over interpretation. In the future we can consider even more in-depth analysis with better domain knowladgefor choices of hyperpa \n"
   ]
  },
  {
   "cell_type": "markdown",
   "metadata": {},
   "source": [
    "# References  <a class=\"anchor\" id=\"7\"></a>\n",
    "\n",
    "1. Case Study provided by  Dr. Virul and team\n",
    "2.  https://www.kaggle.com/ronitf/heart-disease-uci [1]\n",
    "3. https://towardsdatascience.com/hyperparameter-tuning-c5619e7e6624\n",
    "4. https://en.wikipedia.org/wiki/Naive_Bayes_classifier#Gaussian_naive_Bayes"
   ]
  }
 ],
 "metadata": {
  "kernelspec": {
   "display_name": "Python 3",
   "language": "python",
   "name": "python3"
  },
  "language_info": {
   "codemirror_mode": {
    "name": "ipython",
    "version": 3
   },
   "file_extension": ".py",
   "mimetype": "text/x-python",
   "name": "python",
   "nbconvert_exporter": "python",
   "pygments_lexer": "ipython3",
   "version": "3.7.1"
  }
 },
 "nbformat": 4,
 "nbformat_minor": 2
}
